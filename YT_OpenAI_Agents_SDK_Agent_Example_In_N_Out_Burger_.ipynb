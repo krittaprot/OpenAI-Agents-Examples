{
  "cells": [
    {
      "cell_type": "code",
      "execution_count": 39,
      "metadata": {
        "colab": {
          "base_uri": "https://localhost:8080/",
          "height": 74
        },
        "id": "yuftPeB29658",
        "outputId": "360bcb69-68cc-4be3-a135-e12540b7459f"
      },
      "outputs": [
        {
          "data": {
            "text/markdown": [
              "\n",
              "# In‑N‑Out Burger Chatbot\n"
            ],
            "text/plain": [
              "<IPython.core.display.Markdown object>"
            ]
          },
          "metadata": {},
          "output_type": "display_data"
        }
      ],
      "source": [
        "import markdown\n",
        "from IPython.display import display, Markdown\n",
        "\n",
        "# Example usage\n",
        "markdown_text = \"\"\"\n",
        "# In‑N‑Out Burger Chatbot\n",
        "\"\"\"\n",
        "\n",
        "display(Markdown(markdown_text))"
      ]
    },
    {
      "cell_type": "code",
      "execution_count": 40,
      "metadata": {
        "colab": {
          "base_uri": "https://localhost:8080/"
        },
        "id": "yzni0b_DSLm2",
        "outputId": "14b01c5d-e23f-43ab-b65d-a30715238c20"
      },
      "outputs": [
        {
          "name": "stdout",
          "output_type": "stream",
          "text": [
            "OpenAI API key set: True\n"
          ]
        }
      ],
      "source": [
        "import os\n",
        "\n",
        "os.environ['OPENAI_API_KEY'] = 'lm-studio'\n",
        "\n",
        "# Verify that the key is set\n",
        "print(f\"OpenAI API key set: {bool(os.environ['OPENAI_API_KEY'])}\")"
      ]
    },
    {
      "cell_type": "code",
      "execution_count": 41,
      "metadata": {
        "id": "Pfdarpu9So_g"
      },
      "outputs": [],
      "source": [
        "import nest_asyncio\n",
        "nest_asyncio.apply()"
      ]
    },
    {
      "cell_type": "code",
      "execution_count": 42,
      "metadata": {
        "id": "hyCg6c1P4PqB"
      },
      "outputs": [],
      "source": [
        "MENU_PRICES = \"\"\"\n",
        "\n",
        "# In‑N‑Out Burger Menu (2025)\n",
        "\n",
        "**Prices are approximate and subject to change.**\n",
        "\n",
        "## Burgers & Combos\n",
        "\n",
        "| Item                                    | Price  |\n",
        "|-----------------------------------------|--------|\n",
        "| Additional Burger Patty (per extra)     | $1.30  |\n",
        "| Additional Cheese Slice (per extra)     | $0.50  |\n",
        "| **Hamburger**                           | $3.60  |\n",
        "| **Hamburger Combo**                     | $8.15  |\n",
        "| **Cheeseburger**                        | $4.10  |\n",
        "| **Cheeseburger Combo**                  | $8.65  |\n",
        "| **Double Double®**                      | $5.90  |\n",
        "| **Double Double® Combo**                | $10.45 |\n",
        "| **French Fries**                        | $2.30  |\n",
        "\n",
        "## Beverages\n",
        "\n",
        "| Item                                        | Price  |\n",
        "|---------------------------------------------|--------|\n",
        "| **Coffee**                                  | $1.35  |\n",
        "| **Hot Cocoa**                               | $2.25  |\n",
        "| **Milk**                                    | $0.99  |\n",
        "| **Shakes** (Chocolate, Strawberry, Vanilla) | $3.00  |\n",
        "| **Soda (Small)**                            | $2.10  |\n",
        "| **Soda (Medium)**                           | $2.25  |\n",
        "| **Soda (Large)**                            | $2.45  |\n",
        "| **Soda (X‑Large)**                          | $2.65  |\n",
        "\n",
        "## Not‑So‑Secret Menu Options\n",
        "\n",
        "- **Protein Style Burger:** Any burger wrapped in lettuce instead of a bun.\n",
        "- **Animal Style:** Burger or fries served with a mustard‑cooked beef patty, extra spread, pickles, and grilled onions.\n",
        "\n",
        "tax not included\n",
        "\n",
        "tax is 7.25%\n",
        "\n",
        "---\"\"\""
      ]
    },
    {
      "cell_type": "code",
      "execution_count": 43,
      "metadata": {
        "id": "_LyYbSg64UE9"
      },
      "outputs": [],
      "source": [
        "from agents import Agent, Runner, OpenAIChatCompletionsModel, AsyncOpenAI\n",
        "from openai import OpenAI\n",
        "\n",
        "\n",
        "local_model = OpenAIChatCompletionsModel(\n",
        "    model=\"qwen2.5-14b-instruct@iq4_xs\",\n",
        "    openai_client=AsyncOpenAI(base_url=\"http://localhost:1234/v1\")\n",
        ")\n",
        "\n",
        "agent = Agent(name=\"In-N-Out Cashier Assistant\",\n",
        "              instructions=f\"You are a helpful server at In-N-Out Burger respond to questions based on the menu below: \\n\\n{MENU_PRICES}\",\n",
        "              model=local_model\n",
        "              )"
      ]
    },
    {
      "cell_type": "code",
      "execution_count": 44,
      "metadata": {
        "colab": {
          "base_uri": "https://localhost:8080/"
        },
        "id": "2ABT_Ay09qGA",
        "outputId": "841df23c-3440-47ec-cbe2-61a65bcc98a3"
      },
      "outputs": [
        {
          "name": "stdout",
          "output_type": "stream",
          "text": [
            "A Double Double® costs $5.90.\n"
          ]
        }
      ],
      "source": [
        "result = Runner.run_sync(agent, \"How much is a Double Double?.\")\n",
        "print(result.final_output)"
      ]
    },
    {
      "cell_type": "code",
      "execution_count": 45,
      "metadata": {
        "colab": {
          "base_uri": "https://localhost:8080/"
        },
        "id": "x3Rn1j5S-erx",
        "outputId": "91806a6a-fd20-43f6-e78d-3efa1e97ea31"
      },
      "outputs": [
        {
          "name": "stdout",
          "output_type": "stream",
          "text": [
            "A Double Double® Combo costs $10.45. This includes the Double Double burger with two patties, two slices of cheese, along with your choice of fries and a drink.\n"
          ]
        }
      ],
      "source": [
        "result = await Runner.run(agent, \"How much is a Double Double combo?.\")\n",
        "print(result.final_output)"
      ]
    },
    {
      "cell_type": "code",
      "execution_count": 46,
      "metadata": {
        "colab": {
          "base_uri": "https://localhost:8080/"
        },
        "id": "s0DxNofd-mmz",
        "outputId": "17d99ed1-d76f-47fb-bc3a-e641b7a8a6ca"
      },
      "outputs": [
        {
          "name": "stdout",
          "output_type": "stream",
          "text": [
            "The price for a Double Double® burger is $5.90, and the price for French Fries is $2.30. So, together they would cost you $8.20 before tax. With a 7.25% tax, the total would be slightly more than $8.20. To give an exact amount including tax:\n",
            "\n",
            "\\[ \\text{Total} = \\$8.20 + (\\$8.20 \\times 0.0725) \\approx \\$8.20 + \\$0.5945 \\approx \\$8.79 \\]\n",
            "\n",
            "So, the total would be approximately $8.79 including tax.\n"
          ]
        }
      ],
      "source": [
        "result = await Runner.run(agent, \"How much is a Double Double and french fries?.\")\n",
        "print(result.final_output)"
      ]
    },
    {
      "cell_type": "code",
      "execution_count": 47,
      "metadata": {
        "colab": {
          "base_uri": "https://localhost:8080/"
        },
        "id": "5MovcJsEf384",
        "outputId": "a09cbf63-b5e4-4aa0-ac2d-7e80f0773206"
      },
      "outputs": [
        {
          "name": "stdout",
          "output_type": "stream",
          "text": [
            "The price for a Double Double® burger is $5.90, and the price for French Fries is $2.30. So, without tax, a Double Double® with French Fries would cost you $5.90 + $2.30 = $8.20.\n",
            "\n",
            "With a 7.25% tax, the total cost would be approximately $8.84.\n"
          ]
        }
      ],
      "source": [
        "result = await Runner.run(agent, \"How much is a Double Double and french fries?.\")\n",
        "print(result.final_output)"
      ]
    },
    {
      "cell_type": "code",
      "execution_count": 48,
      "metadata": {
        "colab": {
          "base_uri": "https://localhost:8080/"
        },
        "id": "BS0jWlBV_CPo",
        "outputId": "82b31267-d0fa-4e04-8fff-ef6710344f8c"
      },
      "outputs": [
        {
          "name": "stdout",
          "output_type": "stream",
          "text": [
            "To calculate the cost of 32 Double Doubles each with French Fries including tax:\n",
            "\n",
            "1. **Price per meal (Double Double + French Fries):**\n",
            "   - Double Double: $5.90\n",
            "   - French Fries: $2.30\n",
            "   - Total per meal: $5.90 + $2.30 = $8.20\n",
            "\n",
            "2. **Total for 32 meals before tax:**\n",
            "   - 32 meals * $8.20 = $262.40\n",
            "\n",
            "3. **Tax calculation (7.25%):**\n",
            "   - Tax amount: $262.40 * 0.0725 = $19.02\n",
            "\n",
            "4. **Total cost including tax:**\n",
            "   - Total before tax + Tax amount = $262.40 + $19.02 = $281.42\n",
            "\n",
            "So, the total cost for 32 Double Doubles each with French Fries, including tax, is approximately **$281.42**.\n"
          ]
        }
      ],
      "source": [
        "result = await Runner.run(agent, \"How much is 32 Double Doubles each with french fries with tax?.\")\n",
        "print(result.final_output)"
      ]
    },
    {
      "cell_type": "markdown",
      "metadata": {
        "id": "tPLScDgsWSr0"
      },
      "source": [
        "## Streaming"
      ]
    },
    {
      "cell_type": "code",
      "execution_count": 49,
      "metadata": {
        "colab": {
          "base_uri": "https://localhost:8080/"
        },
        "id": "Q2HFn4FzWXZt",
        "outputId": "c6257fa0-19d2-41be-86f8-c3fc47af1032"
      },
      "outputs": [
        {
          "name": "stdout",
          "output_type": "stream",
          "text": [
            "The prices for items on the In-N-Out Burger menu as of 2025 are as follows:\n",
            "\n",
            "### Burgers & Combos\n",
            "- Additional Burger Patty (per extra): $1.30\n",
            "- Additional Cheese Slice (per extra): $0.50\n",
            "- **Hamburger**: $3.60\n",
            "- **Hamburger Combo**: $8.15\n",
            "- **Cheeseburger**: $4.10\n",
            "- **Cheeseburger Combo**: $8.65\n",
            "- **Double Double®**: $5.90\n",
            "- **Double Double® Combo**: $10.45\n",
            "- **French Fries**: $2.30\n",
            "\n",
            "### Beverages\n",
            "- **Coffee**: $1.35\n",
            "- **Hot Cocoa**: $2.25\n",
            "- **Milk**: $0.99\n",
            "- **Shakes** (Chocolate, Strawberry, Vanilla): $3.00\n",
            "- **Soda (Small)**: $2.10\n",
            "- **Soda (Medium)**: $2.25\n",
            "- **Soda (Large)**: $2.45\n",
            "- **Soda (X-Large)**: $2.65\n",
            "\n",
            "### Not-So-Secret Menu Options\n",
            "The prices for the Not-So-Secret menu options are not listed separately, but they typically involve modifications to existing items and do not incur additional costs beyond the base price of the burger or fries.\n",
            "\n",
            "Please note that tax is 7.25% and is not included in these prices."
          ]
        }
      ],
      "source": [
        "import asyncio\n",
        "from openai.types.responses import ResponseTextDeltaEvent\n",
        "from agents import Agent, Runner\n",
        "\n",
        "result = Runner.run_streamed(agent, input=\"How much is everything on the menu?.\")\n",
        "async for event in result.stream_events():\n",
        "    if event.type == \"raw_response_event\" and isinstance(event.data, ResponseTextDeltaEvent):\n",
        "        print(event.data.delta, end=\"\", flush=True)"
      ]
    },
    {
      "cell_type": "code",
      "execution_count": 50,
      "metadata": {
        "id": "p__DsHYqhdY8"
      },
      "outputs": [
        {
          "data": {
            "text/plain": [
              "RunResultStreaming(input='How much is everything on the menu?.', new_items=[MessageOutputItem(agent=Agent(name='In-N-Out Cashier Assistant', instructions='You are a helpful server at In-N-Out Burger respond to questions based on the menu below: \\n\\n\\n\\n# In‑N‑Out Burger Menu (2025)\\n\\n**Prices are approximate and subject to change.**\\n\\n## Burgers & Combos\\n\\n| Item                                    | Price  |\\n|-----------------------------------------|--------|\\n| Additional Burger Patty (per extra)     | $1.30  |\\n| Additional Cheese Slice (per extra)     | $0.50  |\\n| **Hamburger**                           | $3.60  |\\n| **Hamburger Combo**                     | $8.15  |\\n| **Cheeseburger**                        | $4.10  |\\n| **Cheeseburger Combo**                  | $8.65  |\\n| **Double Double®**                      | $5.90  |\\n| **Double Double® Combo**                | $10.45 |\\n| **French Fries**                        | $2.30  |\\n\\n## Beverages\\n\\n| Item                                        | Price  |\\n|---------------------------------------------|--------|\\n| **Coffee**                                  | $1.35  |\\n| **Hot Cocoa**                               | $2.25  |\\n| **Milk**                                    | $0.99  |\\n| **Shakes** (Chocolate, Strawberry, Vanilla) | $3.00  |\\n| **Soda (Small)**                            | $2.10  |\\n| **Soda (Medium)**                           | $2.25  |\\n| **Soda (Large)**                            | $2.45  |\\n| **Soda (X‑Large)**                          | $2.65  |\\n\\n## Not‑So‑Secret Menu Options\\n\\n- **Protein Style Burger:** Any burger wrapped in lettuce instead of a bun.\\n- **Animal Style:** Burger or fries served with a mustard‑cooked beef patty, extra spread, pickles, and grilled onions.\\n\\ntax not included\\n\\ntax is 7.25%\\n\\n---', handoff_description=None, handoffs=[], model=<agents.models.openai_chatcompletions.OpenAIChatCompletionsModel object at 0x00000165A2236F50>, model_settings=ModelSettings(temperature=None, top_p=None, frequency_penalty=None, presence_penalty=None, tool_choice=None, parallel_tool_calls=False, truncation=None), tools=[], input_guardrails=[], output_guardrails=[], output_type=None, hooks=None), raw_item=ResponseOutputMessage(id='__fake_id__', content=[ResponseOutputText(annotations=[], text='The prices for items on the In-N-Out Burger menu as of 2025 are as follows:\\n\\n### Burgers & Combos\\n- Additional Burger Patty (per extra): $1.30\\n- Additional Cheese Slice (per extra): $0.50\\n- **Hamburger**: $3.60\\n- **Hamburger Combo**: $8.15\\n- **Cheeseburger**: $4.10\\n- **Cheeseburger Combo**: $8.65\\n- **Double Double®**: $5.90\\n- **Double Double® Combo**: $10.45\\n- **French Fries**: $2.30\\n\\n### Beverages\\n- **Coffee**: $1.35\\n- **Hot Cocoa**: $2.25\\n- **Milk**: $0.99\\n- **Shakes** (Chocolate, Strawberry, Vanilla): $3.00\\n- **Soda (Small)**: $2.10\\n- **Soda (Medium)**: $2.25\\n- **Soda (Large)**: $2.45\\n- **Soda (X-Large)**: $2.65\\n\\n### Not-So-Secret Menu Options\\nThe prices for the Not-So-Secret menu options are not listed separately, but they typically involve modifications to existing items and do not incur additional costs beyond the base price of the burger or fries.\\n\\nPlease note that tax is 7.25% and is not included in these prices.', type='output_text')], role='assistant', status='completed', type='message'), type='message_output_item')], raw_responses=[ModelResponse(output=[ResponseOutputMessage(id='__fake_id__', content=[ResponseOutputText(annotations=[], text='The prices for items on the In-N-Out Burger menu as of 2025 are as follows:\\n\\n### Burgers & Combos\\n- Additional Burger Patty (per extra): $1.30\\n- Additional Cheese Slice (per extra): $0.50\\n- **Hamburger**: $3.60\\n- **Hamburger Combo**: $8.15\\n- **Cheeseburger**: $4.10\\n- **Cheeseburger Combo**: $8.65\\n- **Double Double®**: $5.90\\n- **Double Double® Combo**: $10.45\\n- **French Fries**: $2.30\\n\\n### Beverages\\n- **Coffee**: $1.35\\n- **Hot Cocoa**: $2.25\\n- **Milk**: $0.99\\n- **Shakes** (Chocolate, Strawberry, Vanilla): $3.00\\n- **Soda (Small)**: $2.10\\n- **Soda (Medium)**: $2.25\\n- **Soda (Large)**: $2.45\\n- **Soda (X-Large)**: $2.65\\n\\n### Not-So-Secret Menu Options\\nThe prices for the Not-So-Secret menu options are not listed separately, but they typically involve modifications to existing items and do not incur additional costs beyond the base price of the burger or fries.\\n\\nPlease note that tax is 7.25% and is not included in these prices.', type='output_text')], role='assistant', status='completed', type='message')], usage=Usage(requests=0, input_tokens=0, output_tokens=0, total_tokens=0), referenceable_id='__fake_id__')], final_output='The prices for items on the In-N-Out Burger menu as of 2025 are as follows:\\n\\n### Burgers & Combos\\n- Additional Burger Patty (per extra): $1.30\\n- Additional Cheese Slice (per extra): $0.50\\n- **Hamburger**: $3.60\\n- **Hamburger Combo**: $8.15\\n- **Cheeseburger**: $4.10\\n- **Cheeseburger Combo**: $8.65\\n- **Double Double®**: $5.90\\n- **Double Double® Combo**: $10.45\\n- **French Fries**: $2.30\\n\\n### Beverages\\n- **Coffee**: $1.35\\n- **Hot Cocoa**: $2.25\\n- **Milk**: $0.99\\n- **Shakes** (Chocolate, Strawberry, Vanilla): $3.00\\n- **Soda (Small)**: $2.10\\n- **Soda (Medium)**: $2.25\\n- **Soda (Large)**: $2.45\\n- **Soda (X-Large)**: $2.65\\n\\n### Not-So-Secret Menu Options\\nThe prices for the Not-So-Secret menu options are not listed separately, but they typically involve modifications to existing items and do not incur additional costs beyond the base price of the burger or fries.\\n\\nPlease note that tax is 7.25% and is not included in these prices.', input_guardrail_results=[], output_guardrail_results=[], current_agent=Agent(name='In-N-Out Cashier Assistant', instructions='You are a helpful server at In-N-Out Burger respond to questions based on the menu below: \\n\\n\\n\\n# In‑N‑Out Burger Menu (2025)\\n\\n**Prices are approximate and subject to change.**\\n\\n## Burgers & Combos\\n\\n| Item                                    | Price  |\\n|-----------------------------------------|--------|\\n| Additional Burger Patty (per extra)     | $1.30  |\\n| Additional Cheese Slice (per extra)     | $0.50  |\\n| **Hamburger**                           | $3.60  |\\n| **Hamburger Combo**                     | $8.15  |\\n| **Cheeseburger**                        | $4.10  |\\n| **Cheeseburger Combo**                  | $8.65  |\\n| **Double Double®**                      | $5.90  |\\n| **Double Double® Combo**                | $10.45 |\\n| **French Fries**                        | $2.30  |\\n\\n## Beverages\\n\\n| Item                                        | Price  |\\n|---------------------------------------------|--------|\\n| **Coffee**                                  | $1.35  |\\n| **Hot Cocoa**                               | $2.25  |\\n| **Milk**                                    | $0.99  |\\n| **Shakes** (Chocolate, Strawberry, Vanilla) | $3.00  |\\n| **Soda (Small)**                            | $2.10  |\\n| **Soda (Medium)**                           | $2.25  |\\n| **Soda (Large)**                            | $2.45  |\\n| **Soda (X‑Large)**                          | $2.65  |\\n\\n## Not‑So‑Secret Menu Options\\n\\n- **Protein Style Burger:** Any burger wrapped in lettuce instead of a bun.\\n- **Animal Style:** Burger or fries served with a mustard‑cooked beef patty, extra spread, pickles, and grilled onions.\\n\\ntax not included\\n\\ntax is 7.25%\\n\\n---', handoff_description=None, handoffs=[], model=<agents.models.openai_chatcompletions.OpenAIChatCompletionsModel object at 0x00000165A2236F50>, model_settings=ModelSettings(temperature=None, top_p=None, frequency_penalty=None, presence_penalty=None, tool_choice=None, parallel_tool_calls=False, truncation=None), tools=[], input_guardrails=[], output_guardrails=[], output_type=None, hooks=None), current_turn=1, max_turns=10, is_complete=True)"
            ]
          },
          "execution_count": 50,
          "metadata": {},
          "output_type": "execute_result"
        }
      ],
      "source": [
        "result"
      ]
    },
    {
      "cell_type": "code",
      "execution_count": 51,
      "metadata": {
        "colab": {
          "base_uri": "https://localhost:8080/"
        },
        "id": "j6ad-l1kAe8o",
        "outputId": "9e90748a-c2db-486d-c246-a20d8f9e0748"
      },
      "outputs": [
        {
          "name": "stdout",
          "output_type": "stream",
          "text": [
            "=== Run starting ===\n",
            "Agent updated: In-N-Out Cashier Assistant\n",
            "-- Message output:\n",
            " To calculate the cost of 32 Double Doubles each with French Fries:\n",
            "\n",
            "- The price for a **Double Double®** is $5.90.\n",
            "- Adding French Fries to each Double Double® costs an additional $2.30.\n",
            "\n",
            "So, the total cost per meal (one Double Double® and one order of French Fries) would be:\n",
            "\\[ \\$5.90 + \\$2.30 = \\$8.20 \\]\n",
            "\n",
            "For 32 meals:\n",
            "\\[ 32 \\times \\$8.20 = \\$262.40 \\]\n",
            "\n",
            "This is the pre-tax cost. To calculate the tax, multiply $262.40 by 7.25% (or 0.0725):\n",
            "\\[ \\$262.40 \\times 0.0725 = \\$19.03 \\]\n",
            "\n",
            "Adding the tax to the pre-tax total:\n",
            "\\[ \\$262.40 + \\$19.03 = \\$281.43 \\]\n",
            "\n",
            "So, the total cost for 32 Double Doubles each with French Fries would be approximately **$281.43**.\n",
            "=== Run complete ===\n"
          ]
        }
      ],
      "source": [
        "import asyncio\n",
        "import random\n",
        "from agents import Agent, ItemHelpers, Runner, function_tool\n",
        "\n",
        "result = Runner.run_streamed(\n",
        "    agent,\n",
        "    input=\"How much is 32 Double Doubles each with french fries?.\",\n",
        ")\n",
        "print(\"=== Run starting ===\")\n",
        "\n",
        "async for event in result.stream_events():\n",
        "    # We'll ignore the raw responses event deltas\n",
        "    if event.type == \"raw_response_event\":\n",
        "        continue\n",
        "    # When the agent updates, print that\n",
        "    elif event.type == \"agent_updated_stream_event\":\n",
        "        print(f\"Agent updated: {event.new_agent.name}\")\n",
        "        continue\n",
        "    # When items are generated, print them\n",
        "    elif event.type == \"run_item_stream_event\":\n",
        "        if event.item.type == \"tool_call_item\":\n",
        "            print(\"-- Tool was called\")\n",
        "        elif event.item.type == \"tool_call_output_item\":\n",
        "            print(f\"-- Tool output: {event.item.output}\")\n",
        "        elif event.item.type == \"message_output_item\":\n",
        "            print(f\"-- Message output:\\n {ItemHelpers.text_message_output(event.item)}\")\n",
        "        else:\n",
        "            pass  # Ignore other event types\n",
        "\n",
        "print(\"=== Run complete ===\")"
      ]
    },
    {
      "cell_type": "markdown",
      "metadata": {
        "id": "t5Vm12nO-oub"
      },
      "source": [
        "### Adding Tools"
      ]
    },
    {
      "cell_type": "code",
      "execution_count": 52,
      "metadata": {
        "cellView": "code",
        "id": "frZyY7rhDfz9"
      },
      "outputs": [],
      "source": [
        "from agents import Agent, Runner, function_tool\n",
        "\n",
        "@function_tool\n",
        "async def calculate_tax(order_total: float, tax_rate: float) -> str:\n",
        "    print(f\"[debug] calculating tax function called order:{order_total} tax:{tax_rate}\")\n",
        "    \"\"\"Calculates the tax for a given order total based on the input amount (float) and tax rate (float).\n",
        "    Args:\n",
        "        order_total: The total amount of the order before tax.\n",
        "        location: The location of the order. Defaults to Los Angeles, CA.\n",
        "    \"\"\"\n",
        "    tax_rate = 0.0725  # Default tax rate for Los Angeles, CA\n",
        "    tax_amount = order_total * tax_rate\n",
        "    total_with_tax = order_total + tax_amount\n",
        "    return f\"The tax on your order is ${tax_amount:.2f}. Your total with tax is ${total_with_tax:.2f}.\"\n"
      ]
    },
    {
      "cell_type": "code",
      "execution_count": 53,
      "metadata": {
        "id": "0iLHI6VkAbZd"
      },
      "outputs": [],
      "source": [
        "agent = Agent(name=\"In-N-Out Cashier Assistant\",\n",
        "              instructions=f\"You are a helpful server at In-N-Out Burger respond to questions based on the menu below: \\n\\n{MENU_PRICES}\",\n",
        "              model=local_model,\n",
        "              tools=[calculate_tax]\n",
        "              )\n"
      ]
    },
    {
      "cell_type": "code",
      "execution_count": 54,
      "metadata": {
        "colab": {
          "base_uri": "https://localhost:8080/"
        },
        "id": "_dubs3HVEbP9",
        "outputId": "044c3b98-0279-4de6-c35d-448ef271991a"
      },
      "outputs": [
        {
          "name": "stdout",
          "output_type": "stream",
          "text": [
            "[debug] calculating tax function called order:41.0 tax:7.25\n",
            "Five Double Doubles each with French fries would cost $41 before tax. With a 7.25% tax, the total comes to approximately $43.97.\n"
          ]
        }
      ],
      "source": [
        "result = await Runner.run(agent, \"How much is 5 Double Doubles each with french fries?.\")\n",
        "print(result.final_output)"
      ]
    },
    {
      "cell_type": "code",
      "execution_count": 55,
      "metadata": {
        "colab": {
          "base_uri": "https://localhost:8080/"
        },
        "id": "iY1MF_0iYTms",
        "outputId": "22e39d6c-cd31-49d4-f5d2-c01f4abadd7c"
      },
      "outputs": [
        {
          "data": {
            "text/plain": [
              "43.972500000000004"
            ]
          },
          "execution_count": 55,
          "metadata": {},
          "output_type": "execute_result"
        }
      ],
      "source": [
        "41.0 *1.0725"
      ]
    },
    {
      "cell_type": "code",
      "execution_count": 56,
      "metadata": {
        "id": "S3p3z3fWFfC6"
      },
      "outputs": [
        {
          "data": {
            "text/plain": [
              "RunResult(input='How much is 5 Double Doubles each with french fries?.', new_items=[ToolCallItem(agent=Agent(name='In-N-Out Cashier Assistant', instructions='You are a helpful server at In-N-Out Burger respond to questions based on the menu below: \\n\\n\\n\\n# In‑N‑Out Burger Menu (2025)\\n\\n**Prices are approximate and subject to change.**\\n\\n## Burgers & Combos\\n\\n| Item                                    | Price  |\\n|-----------------------------------------|--------|\\n| Additional Burger Patty (per extra)     | $1.30  |\\n| Additional Cheese Slice (per extra)     | $0.50  |\\n| **Hamburger**                           | $3.60  |\\n| **Hamburger Combo**                     | $8.15  |\\n| **Cheeseburger**                        | $4.10  |\\n| **Cheeseburger Combo**                  | $8.65  |\\n| **Double Double®**                      | $5.90  |\\n| **Double Double® Combo**                | $10.45 |\\n| **French Fries**                        | $2.30  |\\n\\n## Beverages\\n\\n| Item                                        | Price  |\\n|---------------------------------------------|--------|\\n| **Coffee**                                  | $1.35  |\\n| **Hot Cocoa**                               | $2.25  |\\n| **Milk**                                    | $0.99  |\\n| **Shakes** (Chocolate, Strawberry, Vanilla) | $3.00  |\\n| **Soda (Small)**                            | $2.10  |\\n| **Soda (Medium)**                           | $2.25  |\\n| **Soda (Large)**                            | $2.45  |\\n| **Soda (X‑Large)**                          | $2.65  |\\n\\n## Not‑So‑Secret Menu Options\\n\\n- **Protein Style Burger:** Any burger wrapped in lettuce instead of a bun.\\n- **Animal Style:** Burger or fries served with a mustard‑cooked beef patty, extra spread, pickles, and grilled onions.\\n\\ntax not included\\n\\ntax is 7.25%\\n\\n---', handoff_description=None, handoffs=[], model=<agents.models.openai_chatcompletions.OpenAIChatCompletionsModel object at 0x00000165A2236F50>, model_settings=ModelSettings(temperature=None, top_p=None, frequency_penalty=None, presence_penalty=None, tool_choice=None, parallel_tool_calls=False, truncation=None), tools=[FunctionTool(name='calculate_tax', description='', params_json_schema={'properties': {'order_total': {'title': 'Order Total', 'type': 'number'}, 'tax_rate': {'title': 'Tax Rate', 'type': 'number'}}, 'required': ['order_total', 'tax_rate'], 'title': 'calculate_tax_args', 'type': 'object', 'additionalProperties': False}, on_invoke_tool=<function function_tool.<locals>._create_function_tool.<locals>._on_invoke_tool at 0x00000165A226A480>, strict_json_schema=True)], input_guardrails=[], output_guardrails=[], output_type=None, hooks=None), raw_item=ResponseFunctionToolCall(id='__fake_id__', arguments='{\"order_total\":41,\"tax_rate\":7.25}', call_id='287115911', name='calculate_tax', type='function_call', status=None), type='tool_call_item'), ToolCallOutputItem(agent=Agent(name='In-N-Out Cashier Assistant', instructions='You are a helpful server at In-N-Out Burger respond to questions based on the menu below: \\n\\n\\n\\n# In‑N‑Out Burger Menu (2025)\\n\\n**Prices are approximate and subject to change.**\\n\\n## Burgers & Combos\\n\\n| Item                                    | Price  |\\n|-----------------------------------------|--------|\\n| Additional Burger Patty (per extra)     | $1.30  |\\n| Additional Cheese Slice (per extra)     | $0.50  |\\n| **Hamburger**                           | $3.60  |\\n| **Hamburger Combo**                     | $8.15  |\\n| **Cheeseburger**                        | $4.10  |\\n| **Cheeseburger Combo**                  | $8.65  |\\n| **Double Double®**                      | $5.90  |\\n| **Double Double® Combo**                | $10.45 |\\n| **French Fries**                        | $2.30  |\\n\\n## Beverages\\n\\n| Item                                        | Price  |\\n|---------------------------------------------|--------|\\n| **Coffee**                                  | $1.35  |\\n| **Hot Cocoa**                               | $2.25  |\\n| **Milk**                                    | $0.99  |\\n| **Shakes** (Chocolate, Strawberry, Vanilla) | $3.00  |\\n| **Soda (Small)**                            | $2.10  |\\n| **Soda (Medium)**                           | $2.25  |\\n| **Soda (Large)**                            | $2.45  |\\n| **Soda (X‑Large)**                          | $2.65  |\\n\\n## Not‑So‑Secret Menu Options\\n\\n- **Protein Style Burger:** Any burger wrapped in lettuce instead of a bun.\\n- **Animal Style:** Burger or fries served with a mustard‑cooked beef patty, extra spread, pickles, and grilled onions.\\n\\ntax not included\\n\\ntax is 7.25%\\n\\n---', handoff_description=None, handoffs=[], model=<agents.models.openai_chatcompletions.OpenAIChatCompletionsModel object at 0x00000165A2236F50>, model_settings=ModelSettings(temperature=None, top_p=None, frequency_penalty=None, presence_penalty=None, tool_choice=None, parallel_tool_calls=False, truncation=None), tools=[FunctionTool(name='calculate_tax', description='', params_json_schema={'properties': {'order_total': {'title': 'Order Total', 'type': 'number'}, 'tax_rate': {'title': 'Tax Rate', 'type': 'number'}}, 'required': ['order_total', 'tax_rate'], 'title': 'calculate_tax_args', 'type': 'object', 'additionalProperties': False}, on_invoke_tool=<function function_tool.<locals>._create_function_tool.<locals>._on_invoke_tool at 0x00000165A226A480>, strict_json_schema=True)], input_guardrails=[], output_guardrails=[], output_type=None, hooks=None), raw_item={'call_id': '287115911', 'output': 'The tax on your order is $2.97. Your total with tax is $43.97.', 'type': 'function_call_output'}, output='The tax on your order is $2.97. Your total with tax is $43.97.', type='tool_call_output_item'), MessageOutputItem(agent=Agent(name='In-N-Out Cashier Assistant', instructions='You are a helpful server at In-N-Out Burger respond to questions based on the menu below: \\n\\n\\n\\n# In‑N‑Out Burger Menu (2025)\\n\\n**Prices are approximate and subject to change.**\\n\\n## Burgers & Combos\\n\\n| Item                                    | Price  |\\n|-----------------------------------------|--------|\\n| Additional Burger Patty (per extra)     | $1.30  |\\n| Additional Cheese Slice (per extra)     | $0.50  |\\n| **Hamburger**                           | $3.60  |\\n| **Hamburger Combo**                     | $8.15  |\\n| **Cheeseburger**                        | $4.10  |\\n| **Cheeseburger Combo**                  | $8.65  |\\n| **Double Double®**                      | $5.90  |\\n| **Double Double® Combo**                | $10.45 |\\n| **French Fries**                        | $2.30  |\\n\\n## Beverages\\n\\n| Item                                        | Price  |\\n|---------------------------------------------|--------|\\n| **Coffee**                                  | $1.35  |\\n| **Hot Cocoa**                               | $2.25  |\\n| **Milk**                                    | $0.99  |\\n| **Shakes** (Chocolate, Strawberry, Vanilla) | $3.00  |\\n| **Soda (Small)**                            | $2.10  |\\n| **Soda (Medium)**                           | $2.25  |\\n| **Soda (Large)**                            | $2.45  |\\n| **Soda (X‑Large)**                          | $2.65  |\\n\\n## Not‑So‑Secret Menu Options\\n\\n- **Protein Style Burger:** Any burger wrapped in lettuce instead of a bun.\\n- **Animal Style:** Burger or fries served with a mustard‑cooked beef patty, extra spread, pickles, and grilled onions.\\n\\ntax not included\\n\\ntax is 7.25%\\n\\n---', handoff_description=None, handoffs=[], model=<agents.models.openai_chatcompletions.OpenAIChatCompletionsModel object at 0x00000165A2236F50>, model_settings=ModelSettings(temperature=None, top_p=None, frequency_penalty=None, presence_penalty=None, tool_choice=None, parallel_tool_calls=False, truncation=None), tools=[FunctionTool(name='calculate_tax', description='', params_json_schema={'properties': {'order_total': {'title': 'Order Total', 'type': 'number'}, 'tax_rate': {'title': 'Tax Rate', 'type': 'number'}}, 'required': ['order_total', 'tax_rate'], 'title': 'calculate_tax_args', 'type': 'object', 'additionalProperties': False}, on_invoke_tool=<function function_tool.<locals>._create_function_tool.<locals>._on_invoke_tool at 0x00000165A226A480>, strict_json_schema=True)], input_guardrails=[], output_guardrails=[], output_type=None, hooks=None), raw_item=ResponseOutputMessage(id='__fake_id__', content=[ResponseOutputText(annotations=[], text='Five Double Doubles each with French fries would cost $41 before tax. With a 7.25% tax, the total comes to approximately $43.97.', type='output_text')], role='assistant', status='completed', type='message'), type='message_output_item')], raw_responses=[ModelResponse(output=[ResponseFunctionToolCall(id='__fake_id__', arguments='{\"order_total\":41,\"tax_rate\":7.25}', call_id='287115911', name='calculate_tax', type='function_call', status=None)], usage=Usage(requests=1, input_tokens=603, output_tokens=197, total_tokens=800), referenceable_id=None), ModelResponse(output=[ResponseOutputMessage(id='__fake_id__', content=[ResponseOutputText(annotations=[], text='Five Double Doubles each with French fries would cost $41 before tax. With a 7.25% tax, the total comes to approximately $43.97.', type='output_text')], role='assistant', status='completed', type='message')], usage=Usage(requests=1, input_tokens=676, output_tokens=38, total_tokens=714), referenceable_id=None)], final_output='Five Double Doubles each with French fries would cost $41 before tax. With a 7.25% tax, the total comes to approximately $43.97.', input_guardrail_results=[], output_guardrail_results=[], _last_agent=Agent(name='In-N-Out Cashier Assistant', instructions='You are a helpful server at In-N-Out Burger respond to questions based on the menu below: \\n\\n\\n\\n# In‑N‑Out Burger Menu (2025)\\n\\n**Prices are approximate and subject to change.**\\n\\n## Burgers & Combos\\n\\n| Item                                    | Price  |\\n|-----------------------------------------|--------|\\n| Additional Burger Patty (per extra)     | $1.30  |\\n| Additional Cheese Slice (per extra)     | $0.50  |\\n| **Hamburger**                           | $3.60  |\\n| **Hamburger Combo**                     | $8.15  |\\n| **Cheeseburger**                        | $4.10  |\\n| **Cheeseburger Combo**                  | $8.65  |\\n| **Double Double®**                      | $5.90  |\\n| **Double Double® Combo**                | $10.45 |\\n| **French Fries**                        | $2.30  |\\n\\n## Beverages\\n\\n| Item                                        | Price  |\\n|---------------------------------------------|--------|\\n| **Coffee**                                  | $1.35  |\\n| **Hot Cocoa**                               | $2.25  |\\n| **Milk**                                    | $0.99  |\\n| **Shakes** (Chocolate, Strawberry, Vanilla) | $3.00  |\\n| **Soda (Small)**                            | $2.10  |\\n| **Soda (Medium)**                           | $2.25  |\\n| **Soda (Large)**                            | $2.45  |\\n| **Soda (X‑Large)**                          | $2.65  |\\n\\n## Not‑So‑Secret Menu Options\\n\\n- **Protein Style Burger:** Any burger wrapped in lettuce instead of a bun.\\n- **Animal Style:** Burger or fries served with a mustard‑cooked beef patty, extra spread, pickles, and grilled onions.\\n\\ntax not included\\n\\ntax is 7.25%\\n\\n---', handoff_description=None, handoffs=[], model=<agents.models.openai_chatcompletions.OpenAIChatCompletionsModel object at 0x00000165A2236F50>, model_settings=ModelSettings(temperature=None, top_p=None, frequency_penalty=None, presence_penalty=None, tool_choice=None, parallel_tool_calls=False, truncation=None), tools=[FunctionTool(name='calculate_tax', description='', params_json_schema={'properties': {'order_total': {'title': 'Order Total', 'type': 'number'}, 'tax_rate': {'title': 'Tax Rate', 'type': 'number'}}, 'required': ['order_total', 'tax_rate'], 'title': 'calculate_tax_args', 'type': 'object', 'additionalProperties': False}, on_invoke_tool=<function function_tool.<locals>._create_function_tool.<locals>._on_invoke_tool at 0x00000165A226A480>, strict_json_schema=True)], input_guardrails=[], output_guardrails=[], output_type=None, hooks=None))"
            ]
          },
          "execution_count": 56,
          "metadata": {},
          "output_type": "execute_result"
        }
      ],
      "source": [
        "result"
      ]
    },
    {
      "cell_type": "code",
      "execution_count": 57,
      "metadata": {
        "id": "RMRBeps8F90T"
      },
      "outputs": [
        {
          "name": "stdout",
          "output_type": "stream",
          "text": [
            "input: How much is 5 Double Doubles each with french fries?.\n",
            "new_items: [ToolCallItem(agent=Agent(name='In-N-Out Cashier Assistant', instructions='You are a helpful server at In-N-Out Burger respond to questions based on the menu below: \\n\\n\\n\\n# In‑N‑Out Burger Menu (2025)\\n\\n**Prices are approximate and subject to change.**\\n\\n## Burgers & Combos\\n\\n| Item                                    | Price  |\\n|-----------------------------------------|--------|\\n| Additional Burger Patty (per extra)     | $1.30  |\\n| Additional Cheese Slice (per extra)     | $0.50  |\\n| **Hamburger**                           | $3.60  |\\n| **Hamburger Combo**                     | $8.15  |\\n| **Cheeseburger**                        | $4.10  |\\n| **Cheeseburger Combo**                  | $8.65  |\\n| **Double Double®**                      | $5.90  |\\n| **Double Double® Combo**                | $10.45 |\\n| **French Fries**                        | $2.30  |\\n\\n## Beverages\\n\\n| Item                                        | Price  |\\n|---------------------------------------------|--------|\\n| **Coffee**                                  | $1.35  |\\n| **Hot Cocoa**                               | $2.25  |\\n| **Milk**                                    | $0.99  |\\n| **Shakes** (Chocolate, Strawberry, Vanilla) | $3.00  |\\n| **Soda (Small)**                            | $2.10  |\\n| **Soda (Medium)**                           | $2.25  |\\n| **Soda (Large)**                            | $2.45  |\\n| **Soda (X‑Large)**                          | $2.65  |\\n\\n## Not‑So‑Secret Menu Options\\n\\n- **Protein Style Burger:** Any burger wrapped in lettuce instead of a bun.\\n- **Animal Style:** Burger or fries served with a mustard‑cooked beef patty, extra spread, pickles, and grilled onions.\\n\\ntax not included\\n\\ntax is 7.25%\\n\\n---', handoff_description=None, handoffs=[], model=<agents.models.openai_chatcompletions.OpenAIChatCompletionsModel object at 0x00000165A2236F50>, model_settings=ModelSettings(temperature=None, top_p=None, frequency_penalty=None, presence_penalty=None, tool_choice=None, parallel_tool_calls=False, truncation=None), tools=[FunctionTool(name='calculate_tax', description='', params_json_schema={'properties': {'order_total': {'title': 'Order Total', 'type': 'number'}, 'tax_rate': {'title': 'Tax Rate', 'type': 'number'}}, 'required': ['order_total', 'tax_rate'], 'title': 'calculate_tax_args', 'type': 'object', 'additionalProperties': False}, on_invoke_tool=<function function_tool.<locals>._create_function_tool.<locals>._on_invoke_tool at 0x00000165A226A480>, strict_json_schema=True)], input_guardrails=[], output_guardrails=[], output_type=None, hooks=None), raw_item=ResponseFunctionToolCall(id='__fake_id__', arguments='{\"order_total\":41,\"tax_rate\":7.25}', call_id='287115911', name='calculate_tax', type='function_call', status=None), type='tool_call_item'), ToolCallOutputItem(agent=Agent(name='In-N-Out Cashier Assistant', instructions='You are a helpful server at In-N-Out Burger respond to questions based on the menu below: \\n\\n\\n\\n# In‑N‑Out Burger Menu (2025)\\n\\n**Prices are approximate and subject to change.**\\n\\n## Burgers & Combos\\n\\n| Item                                    | Price  |\\n|-----------------------------------------|--------|\\n| Additional Burger Patty (per extra)     | $1.30  |\\n| Additional Cheese Slice (per extra)     | $0.50  |\\n| **Hamburger**                           | $3.60  |\\n| **Hamburger Combo**                     | $8.15  |\\n| **Cheeseburger**                        | $4.10  |\\n| **Cheeseburger Combo**                  | $8.65  |\\n| **Double Double®**                      | $5.90  |\\n| **Double Double® Combo**                | $10.45 |\\n| **French Fries**                        | $2.30  |\\n\\n## Beverages\\n\\n| Item                                        | Price  |\\n|---------------------------------------------|--------|\\n| **Coffee**                                  | $1.35  |\\n| **Hot Cocoa**                               | $2.25  |\\n| **Milk**                                    | $0.99  |\\n| **Shakes** (Chocolate, Strawberry, Vanilla) | $3.00  |\\n| **Soda (Small)**                            | $2.10  |\\n| **Soda (Medium)**                           | $2.25  |\\n| **Soda (Large)**                            | $2.45  |\\n| **Soda (X‑Large)**                          | $2.65  |\\n\\n## Not‑So‑Secret Menu Options\\n\\n- **Protein Style Burger:** Any burger wrapped in lettuce instead of a bun.\\n- **Animal Style:** Burger or fries served with a mustard‑cooked beef patty, extra spread, pickles, and grilled onions.\\n\\ntax not included\\n\\ntax is 7.25%\\n\\n---', handoff_description=None, handoffs=[], model=<agents.models.openai_chatcompletions.OpenAIChatCompletionsModel object at 0x00000165A2236F50>, model_settings=ModelSettings(temperature=None, top_p=None, frequency_penalty=None, presence_penalty=None, tool_choice=None, parallel_tool_calls=False, truncation=None), tools=[FunctionTool(name='calculate_tax', description='', params_json_schema={'properties': {'order_total': {'title': 'Order Total', 'type': 'number'}, 'tax_rate': {'title': 'Tax Rate', 'type': 'number'}}, 'required': ['order_total', 'tax_rate'], 'title': 'calculate_tax_args', 'type': 'object', 'additionalProperties': False}, on_invoke_tool=<function function_tool.<locals>._create_function_tool.<locals>._on_invoke_tool at 0x00000165A226A480>, strict_json_schema=True)], input_guardrails=[], output_guardrails=[], output_type=None, hooks=None), raw_item={'call_id': '287115911', 'output': 'The tax on your order is $2.97. Your total with tax is $43.97.', 'type': 'function_call_output'}, output='The tax on your order is $2.97. Your total with tax is $43.97.', type='tool_call_output_item'), MessageOutputItem(agent=Agent(name='In-N-Out Cashier Assistant', instructions='You are a helpful server at In-N-Out Burger respond to questions based on the menu below: \\n\\n\\n\\n# In‑N‑Out Burger Menu (2025)\\n\\n**Prices are approximate and subject to change.**\\n\\n## Burgers & Combos\\n\\n| Item                                    | Price  |\\n|-----------------------------------------|--------|\\n| Additional Burger Patty (per extra)     | $1.30  |\\n| Additional Cheese Slice (per extra)     | $0.50  |\\n| **Hamburger**                           | $3.60  |\\n| **Hamburger Combo**                     | $8.15  |\\n| **Cheeseburger**                        | $4.10  |\\n| **Cheeseburger Combo**                  | $8.65  |\\n| **Double Double®**                      | $5.90  |\\n| **Double Double® Combo**                | $10.45 |\\n| **French Fries**                        | $2.30  |\\n\\n## Beverages\\n\\n| Item                                        | Price  |\\n|---------------------------------------------|--------|\\n| **Coffee**                                  | $1.35  |\\n| **Hot Cocoa**                               | $2.25  |\\n| **Milk**                                    | $0.99  |\\n| **Shakes** (Chocolate, Strawberry, Vanilla) | $3.00  |\\n| **Soda (Small)**                            | $2.10  |\\n| **Soda (Medium)**                           | $2.25  |\\n| **Soda (Large)**                            | $2.45  |\\n| **Soda (X‑Large)**                          | $2.65  |\\n\\n## Not‑So‑Secret Menu Options\\n\\n- **Protein Style Burger:** Any burger wrapped in lettuce instead of a bun.\\n- **Animal Style:** Burger or fries served with a mustard‑cooked beef patty, extra spread, pickles, and grilled onions.\\n\\ntax not included\\n\\ntax is 7.25%\\n\\n---', handoff_description=None, handoffs=[], model=<agents.models.openai_chatcompletions.OpenAIChatCompletionsModel object at 0x00000165A2236F50>, model_settings=ModelSettings(temperature=None, top_p=None, frequency_penalty=None, presence_penalty=None, tool_choice=None, parallel_tool_calls=False, truncation=None), tools=[FunctionTool(name='calculate_tax', description='', params_json_schema={'properties': {'order_total': {'title': 'Order Total', 'type': 'number'}, 'tax_rate': {'title': 'Tax Rate', 'type': 'number'}}, 'required': ['order_total', 'tax_rate'], 'title': 'calculate_tax_args', 'type': 'object', 'additionalProperties': False}, on_invoke_tool=<function function_tool.<locals>._create_function_tool.<locals>._on_invoke_tool at 0x00000165A226A480>, strict_json_schema=True)], input_guardrails=[], output_guardrails=[], output_type=None, hooks=None), raw_item=ResponseOutputMessage(id='__fake_id__', content=[ResponseOutputText(annotations=[], text='Five Double Doubles each with French fries would cost $41 before tax. With a 7.25% tax, the total comes to approximately $43.97.', type='output_text')], role='assistant', status='completed', type='message'), type='message_output_item')]\n",
            "raw_responses: [ModelResponse(output=[ResponseFunctionToolCall(id='__fake_id__', arguments='{\"order_total\":41,\"tax_rate\":7.25}', call_id='287115911', name='calculate_tax', type='function_call', status=None)], usage=Usage(requests=1, input_tokens=603, output_tokens=197, total_tokens=800), referenceable_id=None), ModelResponse(output=[ResponseOutputMessage(id='__fake_id__', content=[ResponseOutputText(annotations=[], text='Five Double Doubles each with French fries would cost $41 before tax. With a 7.25% tax, the total comes to approximately $43.97.', type='output_text')], role='assistant', status='completed', type='message')], usage=Usage(requests=1, input_tokens=676, output_tokens=38, total_tokens=714), referenceable_id=None)]\n",
            "final_output: Five Double Doubles each with French fries would cost $41 before tax. With a 7.25% tax, the total comes to approximately $43.97.\n",
            "input_guardrail_results: []\n",
            "output_guardrail_results: []\n",
            "_last_agent: Agent(name='In-N-Out Cashier Assistant', instructions='You are a helpful server at In-N-Out Burger respond to questions based on the menu below: \\n\\n\\n\\n# In‑N‑Out Burger Menu (2025)\\n\\n**Prices are approximate and subject to change.**\\n\\n## Burgers & Combos\\n\\n| Item                                    | Price  |\\n|-----------------------------------------|--------|\\n| Additional Burger Patty (per extra)     | $1.30  |\\n| Additional Cheese Slice (per extra)     | $0.50  |\\n| **Hamburger**                           | $3.60  |\\n| **Hamburger Combo**                     | $8.15  |\\n| **Cheeseburger**                        | $4.10  |\\n| **Cheeseburger Combo**                  | $8.65  |\\n| **Double Double®**                      | $5.90  |\\n| **Double Double® Combo**                | $10.45 |\\n| **French Fries**                        | $2.30  |\\n\\n## Beverages\\n\\n| Item                                        | Price  |\\n|---------------------------------------------|--------|\\n| **Coffee**                                  | $1.35  |\\n| **Hot Cocoa**                               | $2.25  |\\n| **Milk**                                    | $0.99  |\\n| **Shakes** (Chocolate, Strawberry, Vanilla) | $3.00  |\\n| **Soda (Small)**                            | $2.10  |\\n| **Soda (Medium)**                           | $2.25  |\\n| **Soda (Large)**                            | $2.45  |\\n| **Soda (X‑Large)**                          | $2.65  |\\n\\n## Not‑So‑Secret Menu Options\\n\\n- **Protein Style Burger:** Any burger wrapped in lettuce instead of a bun.\\n- **Animal Style:** Burger or fries served with a mustard‑cooked beef patty, extra spread, pickles, and grilled onions.\\n\\ntax not included\\n\\ntax is 7.25%\\n\\n---', handoff_description=None, handoffs=[], model=<agents.models.openai_chatcompletions.OpenAIChatCompletionsModel object at 0x00000165A2236F50>, model_settings=ModelSettings(temperature=None, top_p=None, frequency_penalty=None, presence_penalty=None, tool_choice=None, parallel_tool_calls=False, truncation=None), tools=[FunctionTool(name='calculate_tax', description='', params_json_schema={'properties': {'order_total': {'title': 'Order Total', 'type': 'number'}, 'tax_rate': {'title': 'Tax Rate', 'type': 'number'}}, 'required': ['order_total', 'tax_rate'], 'title': 'calculate_tax_args', 'type': 'object', 'additionalProperties': False}, on_invoke_tool=<function function_tool.<locals>._create_function_tool.<locals>._on_invoke_tool at 0x00000165A226A480>, strict_json_schema=True)], input_guardrails=[], output_guardrails=[], output_type=None, hooks=None)\n"
          ]
        }
      ],
      "source": [
        "for k, v in result.__dict__.items():\n",
        "  print(f\"{k}: {v}\")"
      ]
    },
    {
      "cell_type": "code",
      "execution_count": 58,
      "metadata": {
        "colab": {
          "base_uri": "https://localhost:8080/"
        },
        "id": "Hh-sbnt7GRt1",
        "outputId": "63d41787-6cd9-452b-aeaf-04962f240a4e"
      },
      "outputs": [
        {
          "name": "stdout",
          "output_type": "stream",
          "text": [
            "Call ID: 287115911\n",
            "Function Name: calculate_tax\n",
            "Arguments:\n",
            "  order_total: 41\n",
            "  tax_rate: 7.25\n",
            "Output:\n",
            "  The tax on your order is $2.97. Your total with tax is $43.97.\n",
            "----------------------------------------\n"
          ]
        }
      ],
      "source": [
        "import json\n",
        "\n",
        "def extract_function_calls(run_result):\n",
        "    \"\"\"\n",
        "    Extracts function call items (both the call details and outputs)\n",
        "    from the run_result object.\n",
        "    \"\"\"\n",
        "    function_calls = {}\n",
        "    # Use attribute access instead of dict.get()\n",
        "    new_items = run_result.new_items if hasattr(run_result, 'new_items') else []\n",
        "\n",
        "    for item in new_items:\n",
        "        # Assuming each item has an attribute 'raw_item'\n",
        "        raw_item = item.raw_item if hasattr(item, 'raw_item') else {}\n",
        "\n",
        "        # Try to get the type from raw_item. It might be a dict or an object.\n",
        "        if isinstance(raw_item, dict):\n",
        "            item_type = raw_item.get(\"type\")\n",
        "            call_id = raw_item.get(\"call_id\")\n",
        "        else:\n",
        "            item_type = getattr(raw_item, \"type\", None)\n",
        "            call_id = getattr(raw_item, \"call_id\", None)\n",
        "\n",
        "        # Check if the item is a function call or its output\n",
        "        if item_type in [\"function_call\", \"function_call_output\"]:\n",
        "            if call_id not in function_calls:\n",
        "                function_calls[call_id] = {}\n",
        "            if item_type == \"function_call\":\n",
        "                # Get arguments as a JSON string and parse it\n",
        "                if isinstance(raw_item, dict):\n",
        "                    args = raw_item.get(\"arguments\")\n",
        "                    function_calls[call_id][\"name\"] = raw_item.get(\"name\")\n",
        "                else:\n",
        "                    args = getattr(raw_item, \"arguments\", None)\n",
        "                    function_calls[call_id][\"name\"] = getattr(raw_item, \"name\", None)\n",
        "                try:\n",
        "                    function_calls[call_id][\"arguments\"] = json.loads(args)\n",
        "                except Exception:\n",
        "                    function_calls[call_id][\"arguments\"] = args\n",
        "            elif item_type == \"function_call_output\":\n",
        "                if isinstance(raw_item, dict):\n",
        "                    function_calls[call_id][\"output\"] = raw_item.get(\"output\")\n",
        "                else:\n",
        "                    function_calls[call_id][\"output\"] = getattr(raw_item, \"output\", None)\n",
        "    return function_calls\n",
        "\n",
        "# Assuming `result` is your RunResult object:\n",
        "calls = extract_function_calls(result)\n",
        "\n",
        "# Print the extracted details\n",
        "for call_id, details in calls.items():\n",
        "    print(f\"Call ID: {call_id}\")\n",
        "    print(f\"Function Name: {details.get('name', 'N/A')}\")\n",
        "    print(\"Arguments:\")\n",
        "    for arg, value in details.get(\"arguments\", {}).items():\n",
        "        print(f\"  {arg}: {value}\")\n",
        "    print(\"Output:\")\n",
        "    print(f\"  {details.get('output', 'No output')}\")\n",
        "    print(\"-\" * 40)"
      ]
    },
    {
      "cell_type": "markdown",
      "metadata": {
        "id": "NMOUIKCWRyav"
      },
      "source": [
        "### Websearch Tool"
      ]
    },
    {
      "cell_type": "code",
      "execution_count": 23,
      "metadata": {
        "id": "W1rFrewNR8zE"
      },
      "outputs": [],
      "source": [
        "from agents import Agent, FileSearchTool, Runner, WebSearchTool"
      ]
    },
    {
      "cell_type": "code",
      "execution_count": 24,
      "metadata": {
        "id": "NFiZmZCrR9Ea"
      },
      "outputs": [],
      "source": [
        "mcdonalds_agent = Agent(name=\"McDonalds Assistant\",\n",
        "              instructions=f\"You are a helpful server at McDonalds, respond to questions by using the search tool\",\n",
        "              model=local_model,\n",
        "              tools=[WebSearchTool()]\n",
        "              )\n"
      ]
    },
    {
      "cell_type": "code",
      "execution_count": 25,
      "metadata": {
        "colab": {
          "base_uri": "https://localhost:8080/"
        },
        "id": "GWl-PYtYR9Ea",
        "outputId": "e4e70953-fdd8-4810-f4f2-36359b69a81b"
      },
      "outputs": [
        {
          "ename": "UserError",
          "evalue": "Hosted tools are not supported with the ChatCompletions API. FGot tool type: <class 'agents.tool.WebSearchTool'>, tool: WebSearchTool(user_location=None, search_context_size='medium')",
          "output_type": "error",
          "traceback": [
            "\u001b[1;31m---------------------------------------------------------------------------\u001b[0m",
            "\u001b[1;31mUserError\u001b[0m                                 Traceback (most recent call last)",
            "Cell \u001b[1;32mIn[25], line 1\u001b[0m\n\u001b[1;32m----> 1\u001b[0m result \u001b[38;5;241m=\u001b[39m \u001b[38;5;28;01mawait\u001b[39;00m Runner\u001b[38;5;241m.\u001b[39mrun(mcdonalds_agent, \u001b[38;5;124m\"\u001b[39m\u001b[38;5;124mHow much is BigMac?.\u001b[39m\u001b[38;5;124m\"\u001b[39m)\n\u001b[0;32m      3\u001b[0m \u001b[38;5;28mprint\u001b[39m(result\u001b[38;5;241m.\u001b[39mfinal_output)\n",
            "File \u001b[1;32mc:\\Users\\kritt\\.conda\\envs\\ai_agents\\Lib\\site-packages\\agents\\run.py:210\u001b[0m, in \u001b[0;36mRunner.run\u001b[1;34m(cls, starting_agent, input, context, max_turns, hooks, run_config)\u001b[0m\n\u001b[0;32m    205\u001b[0m logger\u001b[38;5;241m.\u001b[39mdebug(\n\u001b[0;32m    206\u001b[0m     \u001b[38;5;124mf\u001b[39m\u001b[38;5;124m\"\u001b[39m\u001b[38;5;124mRunning agent \u001b[39m\u001b[38;5;132;01m{\u001b[39;00mcurrent_agent\u001b[38;5;241m.\u001b[39mname\u001b[38;5;132;01m}\u001b[39;00m\u001b[38;5;124m (turn \u001b[39m\u001b[38;5;132;01m{\u001b[39;00mcurrent_turn\u001b[38;5;132;01m}\u001b[39;00m\u001b[38;5;124m)\u001b[39m\u001b[38;5;124m\"\u001b[39m,\n\u001b[0;32m    207\u001b[0m )\n\u001b[0;32m    209\u001b[0m \u001b[38;5;28;01mif\u001b[39;00m current_turn \u001b[38;5;241m==\u001b[39m \u001b[38;5;241m1\u001b[39m:\n\u001b[1;32m--> 210\u001b[0m     input_guardrail_results, turn_result \u001b[38;5;241m=\u001b[39m \u001b[38;5;28;01mawait\u001b[39;00m asyncio\u001b[38;5;241m.\u001b[39mgather(\n\u001b[0;32m    211\u001b[0m         \u001b[38;5;28mcls\u001b[39m\u001b[38;5;241m.\u001b[39m_run_input_guardrails(\n\u001b[0;32m    212\u001b[0m             starting_agent,\n\u001b[0;32m    213\u001b[0m             starting_agent\u001b[38;5;241m.\u001b[39minput_guardrails\n\u001b[0;32m    214\u001b[0m             \u001b[38;5;241m+\u001b[39m (run_config\u001b[38;5;241m.\u001b[39minput_guardrails \u001b[38;5;129;01mor\u001b[39;00m []),\n\u001b[0;32m    215\u001b[0m             copy\u001b[38;5;241m.\u001b[39mdeepcopy(\u001b[38;5;28minput\u001b[39m),\n\u001b[0;32m    216\u001b[0m             context_wrapper,\n\u001b[0;32m    217\u001b[0m         ),\n\u001b[0;32m    218\u001b[0m         \u001b[38;5;28mcls\u001b[39m\u001b[38;5;241m.\u001b[39m_run_single_turn(\n\u001b[0;32m    219\u001b[0m             agent\u001b[38;5;241m=\u001b[39mcurrent_agent,\n\u001b[0;32m    220\u001b[0m             original_input\u001b[38;5;241m=\u001b[39moriginal_input,\n\u001b[0;32m    221\u001b[0m             generated_items\u001b[38;5;241m=\u001b[39mgenerated_items,\n\u001b[0;32m    222\u001b[0m             hooks\u001b[38;5;241m=\u001b[39mhooks,\n\u001b[0;32m    223\u001b[0m             context_wrapper\u001b[38;5;241m=\u001b[39mcontext_wrapper,\n\u001b[0;32m    224\u001b[0m             run_config\u001b[38;5;241m=\u001b[39mrun_config,\n\u001b[0;32m    225\u001b[0m             should_run_agent_start_hooks\u001b[38;5;241m=\u001b[39mshould_run_agent_start_hooks,\n\u001b[0;32m    226\u001b[0m         ),\n\u001b[0;32m    227\u001b[0m     )\n\u001b[0;32m    228\u001b[0m \u001b[38;5;28;01melse\u001b[39;00m:\n\u001b[0;32m    229\u001b[0m     turn_result \u001b[38;5;241m=\u001b[39m \u001b[38;5;28;01mawait\u001b[39;00m \u001b[38;5;28mcls\u001b[39m\u001b[38;5;241m.\u001b[39m_run_single_turn(\n\u001b[0;32m    230\u001b[0m         agent\u001b[38;5;241m=\u001b[39mcurrent_agent,\n\u001b[0;32m    231\u001b[0m         original_input\u001b[38;5;241m=\u001b[39moriginal_input,\n\u001b[1;32m   (...)\u001b[0m\n\u001b[0;32m    236\u001b[0m         should_run_agent_start_hooks\u001b[38;5;241m=\u001b[39mshould_run_agent_start_hooks,\n\u001b[0;32m    237\u001b[0m     )\n",
            "File \u001b[1;32mc:\\Users\\kritt\\.conda\\envs\\ai_agents\\Lib\\asyncio\\tasks.py:349\u001b[0m, in \u001b[0;36mTask.__wakeup\u001b[1;34m(self, future)\u001b[0m\n\u001b[0;32m    347\u001b[0m \u001b[38;5;28;01mdef\u001b[39;00m \u001b[38;5;21m__wakeup\u001b[39m(\u001b[38;5;28mself\u001b[39m, future):\n\u001b[0;32m    348\u001b[0m     \u001b[38;5;28;01mtry\u001b[39;00m:\n\u001b[1;32m--> 349\u001b[0m         \u001b[43mfuture\u001b[49m\u001b[38;5;241;43m.\u001b[39;49m\u001b[43mresult\u001b[49m\u001b[43m(\u001b[49m\u001b[43m)\u001b[49m\n\u001b[0;32m    350\u001b[0m     \u001b[38;5;28;01mexcept\u001b[39;00m \u001b[38;5;167;01mBaseException\u001b[39;00m \u001b[38;5;28;01mas\u001b[39;00m exc:\n\u001b[0;32m    351\u001b[0m         \u001b[38;5;66;03m# This may also be a cancellation.\u001b[39;00m\n\u001b[0;32m    352\u001b[0m         \u001b[38;5;28mself\u001b[39m\u001b[38;5;241m.\u001b[39m__step(exc)\n",
            "File \u001b[1;32mc:\\Users\\kritt\\.conda\\envs\\ai_agents\\Lib\\asyncio\\tasks.py:277\u001b[0m, in \u001b[0;36mTask.__step\u001b[1;34m(***failed resolving arguments***)\u001b[0m\n\u001b[0;32m    273\u001b[0m \u001b[38;5;28;01mtry\u001b[39;00m:\n\u001b[0;32m    274\u001b[0m     \u001b[38;5;28;01mif\u001b[39;00m exc \u001b[38;5;129;01mis\u001b[39;00m \u001b[38;5;28;01mNone\u001b[39;00m:\n\u001b[0;32m    275\u001b[0m         \u001b[38;5;66;03m# We use the `send` method directly, because coroutines\u001b[39;00m\n\u001b[0;32m    276\u001b[0m         \u001b[38;5;66;03m# don't have `__iter__` and `__next__` methods.\u001b[39;00m\n\u001b[1;32m--> 277\u001b[0m         result \u001b[38;5;241m=\u001b[39m coro\u001b[38;5;241m.\u001b[39msend(\u001b[38;5;28;01mNone\u001b[39;00m)\n\u001b[0;32m    278\u001b[0m     \u001b[38;5;28;01melse\u001b[39;00m:\n\u001b[0;32m    279\u001b[0m         result \u001b[38;5;241m=\u001b[39m coro\u001b[38;5;241m.\u001b[39mthrow(exc)\n",
            "File \u001b[1;32mc:\\Users\\kritt\\.conda\\envs\\ai_agents\\Lib\\site-packages\\agents\\run.py:719\u001b[0m, in \u001b[0;36mRunner._run_single_turn\u001b[1;34m(cls, agent, original_input, generated_items, hooks, context_wrapper, run_config, should_run_agent_start_hooks)\u001b[0m\n\u001b[0;32m    716\u001b[0m \u001b[38;5;28minput\u001b[39m \u001b[38;5;241m=\u001b[39m ItemHelpers\u001b[38;5;241m.\u001b[39minput_to_new_input_list(original_input)\n\u001b[0;32m    717\u001b[0m \u001b[38;5;28minput\u001b[39m\u001b[38;5;241m.\u001b[39mextend([generated_item\u001b[38;5;241m.\u001b[39mto_input_item() \u001b[38;5;28;01mfor\u001b[39;00m generated_item \u001b[38;5;129;01min\u001b[39;00m generated_items])\n\u001b[1;32m--> 719\u001b[0m new_response \u001b[38;5;241m=\u001b[39m \u001b[38;5;28;01mawait\u001b[39;00m \u001b[38;5;28mcls\u001b[39m\u001b[38;5;241m.\u001b[39m_get_new_response(\n\u001b[0;32m    720\u001b[0m     agent,\n\u001b[0;32m    721\u001b[0m     system_prompt,\n\u001b[0;32m    722\u001b[0m     \u001b[38;5;28minput\u001b[39m,\n\u001b[0;32m    723\u001b[0m     output_schema,\n\u001b[0;32m    724\u001b[0m     handoffs,\n\u001b[0;32m    725\u001b[0m     context_wrapper,\n\u001b[0;32m    726\u001b[0m     run_config,\n\u001b[0;32m    727\u001b[0m )\n\u001b[0;32m    729\u001b[0m \u001b[38;5;28;01mreturn\u001b[39;00m \u001b[38;5;28;01mawait\u001b[39;00m \u001b[38;5;28mcls\u001b[39m\u001b[38;5;241m.\u001b[39m_get_single_step_result_from_response(\n\u001b[0;32m    730\u001b[0m     agent\u001b[38;5;241m=\u001b[39magent,\n\u001b[0;32m    731\u001b[0m     original_input\u001b[38;5;241m=\u001b[39moriginal_input,\n\u001b[1;32m   (...)\u001b[0m\n\u001b[0;32m    738\u001b[0m     run_config\u001b[38;5;241m=\u001b[39mrun_config,\n\u001b[0;32m    739\u001b[0m )\n",
            "File \u001b[1;32mc:\\Users\\kritt\\.conda\\envs\\ai_agents\\Lib\\site-packages\\agents\\run.py:862\u001b[0m, in \u001b[0;36mRunner._get_new_response\u001b[1;34m(cls, agent, system_prompt, input, output_schema, handoffs, context_wrapper, run_config)\u001b[0m\n\u001b[0;32m    860\u001b[0m model \u001b[38;5;241m=\u001b[39m \u001b[38;5;28mcls\u001b[39m\u001b[38;5;241m.\u001b[39m_get_model(agent, run_config)\n\u001b[0;32m    861\u001b[0m model_settings \u001b[38;5;241m=\u001b[39m agent\u001b[38;5;241m.\u001b[39mmodel_settings\u001b[38;5;241m.\u001b[39mresolve(run_config\u001b[38;5;241m.\u001b[39mmodel_settings)\n\u001b[1;32m--> 862\u001b[0m new_response \u001b[38;5;241m=\u001b[39m \u001b[38;5;28;01mawait\u001b[39;00m model\u001b[38;5;241m.\u001b[39mget_response(\n\u001b[0;32m    863\u001b[0m     system_instructions\u001b[38;5;241m=\u001b[39msystem_prompt,\n\u001b[0;32m    864\u001b[0m     \u001b[38;5;28minput\u001b[39m\u001b[38;5;241m=\u001b[39m\u001b[38;5;28minput\u001b[39m,\n\u001b[0;32m    865\u001b[0m     model_settings\u001b[38;5;241m=\u001b[39mmodel_settings,\n\u001b[0;32m    866\u001b[0m     tools\u001b[38;5;241m=\u001b[39magent\u001b[38;5;241m.\u001b[39mtools,\n\u001b[0;32m    867\u001b[0m     output_schema\u001b[38;5;241m=\u001b[39moutput_schema,\n\u001b[0;32m    868\u001b[0m     handoffs\u001b[38;5;241m=\u001b[39mhandoffs,\n\u001b[0;32m    869\u001b[0m     tracing\u001b[38;5;241m=\u001b[39mget_model_tracing_impl(\n\u001b[0;32m    870\u001b[0m         run_config\u001b[38;5;241m.\u001b[39mtracing_disabled, run_config\u001b[38;5;241m.\u001b[39mtrace_include_sensitive_data\n\u001b[0;32m    871\u001b[0m     ),\n\u001b[0;32m    872\u001b[0m )\n\u001b[0;32m    874\u001b[0m context_wrapper\u001b[38;5;241m.\u001b[39musage\u001b[38;5;241m.\u001b[39madd(new_response\u001b[38;5;241m.\u001b[39musage)\n\u001b[0;32m    876\u001b[0m \u001b[38;5;28;01mreturn\u001b[39;00m new_response\n",
            "File \u001b[1;32mc:\\Users\\kritt\\.conda\\envs\\ai_agents\\Lib\\site-packages\\agents\\models\\openai_chatcompletions.py:116\u001b[0m, in \u001b[0;36mOpenAIChatCompletionsModel.get_response\u001b[1;34m(self, system_instructions, input, model_settings, tools, output_schema, handoffs, tracing)\u001b[0m\n\u001b[0;32m    100\u001b[0m \u001b[38;5;28;01masync\u001b[39;00m \u001b[38;5;28;01mdef\u001b[39;00m \u001b[38;5;21mget_response\u001b[39m(\n\u001b[0;32m    101\u001b[0m     \u001b[38;5;28mself\u001b[39m,\n\u001b[0;32m    102\u001b[0m     system_instructions: \u001b[38;5;28mstr\u001b[39m \u001b[38;5;241m|\u001b[39m \u001b[38;5;28;01mNone\u001b[39;00m,\n\u001b[1;32m   (...)\u001b[0m\n\u001b[0;32m    108\u001b[0m     tracing: ModelTracing,\n\u001b[0;32m    109\u001b[0m ) \u001b[38;5;241m-\u001b[39m\u001b[38;5;241m>\u001b[39m ModelResponse:\n\u001b[0;32m    110\u001b[0m     \u001b[38;5;28;01mwith\u001b[39;00m generation_span(\n\u001b[0;32m    111\u001b[0m         model\u001b[38;5;241m=\u001b[39m\u001b[38;5;28mstr\u001b[39m(\u001b[38;5;28mself\u001b[39m\u001b[38;5;241m.\u001b[39mmodel),\n\u001b[0;32m    112\u001b[0m         model_config\u001b[38;5;241m=\u001b[39mdataclasses\u001b[38;5;241m.\u001b[39masdict(model_settings)\n\u001b[0;32m    113\u001b[0m         \u001b[38;5;241m|\u001b[39m {\u001b[38;5;124m\"\u001b[39m\u001b[38;5;124mbase_url\u001b[39m\u001b[38;5;124m\"\u001b[39m: \u001b[38;5;28mstr\u001b[39m(\u001b[38;5;28mself\u001b[39m\u001b[38;5;241m.\u001b[39m_client\u001b[38;5;241m.\u001b[39mbase_url)},\n\u001b[0;32m    114\u001b[0m         disabled\u001b[38;5;241m=\u001b[39mtracing\u001b[38;5;241m.\u001b[39mis_disabled(),\n\u001b[0;32m    115\u001b[0m     ) \u001b[38;5;28;01mas\u001b[39;00m span_generation:\n\u001b[1;32m--> 116\u001b[0m         response \u001b[38;5;241m=\u001b[39m \u001b[38;5;28;01mawait\u001b[39;00m \u001b[38;5;28mself\u001b[39m\u001b[38;5;241m.\u001b[39m_fetch_response(\n\u001b[0;32m    117\u001b[0m             system_instructions,\n\u001b[0;32m    118\u001b[0m             \u001b[38;5;28minput\u001b[39m,\n\u001b[0;32m    119\u001b[0m             model_settings,\n\u001b[0;32m    120\u001b[0m             tools,\n\u001b[0;32m    121\u001b[0m             output_schema,\n\u001b[0;32m    122\u001b[0m             handoffs,\n\u001b[0;32m    123\u001b[0m             span_generation,\n\u001b[0;32m    124\u001b[0m             tracing,\n\u001b[0;32m    125\u001b[0m             stream\u001b[38;5;241m=\u001b[39m\u001b[38;5;28;01mFalse\u001b[39;00m,\n\u001b[0;32m    126\u001b[0m         )\n\u001b[0;32m    128\u001b[0m         \u001b[38;5;28;01mif\u001b[39;00m _debug\u001b[38;5;241m.\u001b[39mDONT_LOG_MODEL_DATA:\n\u001b[0;32m    129\u001b[0m             logger\u001b[38;5;241m.\u001b[39mdebug(\u001b[38;5;124m\"\u001b[39m\u001b[38;5;124mReceived model response\u001b[39m\u001b[38;5;124m\"\u001b[39m)\n",
            "File \u001b[1;32mc:\\Users\\kritt\\.conda\\envs\\ai_agents\\Lib\\site-packages\\agents\\models\\openai_chatcompletions.py:482\u001b[0m, in \u001b[0;36mOpenAIChatCompletionsModel._fetch_response\u001b[1;34m(self, system_instructions, input, model_settings, tools, output_schema, handoffs, span, tracing, stream)\u001b[0m\n\u001b[0;32m    479\u001b[0m tool_choice \u001b[38;5;241m=\u001b[39m _Converter\u001b[38;5;241m.\u001b[39mconvert_tool_choice(model_settings\u001b[38;5;241m.\u001b[39mtool_choice)\n\u001b[0;32m    480\u001b[0m response_format \u001b[38;5;241m=\u001b[39m _Converter\u001b[38;5;241m.\u001b[39mconvert_response_format(output_schema)\n\u001b[1;32m--> 482\u001b[0m converted_tools \u001b[38;5;241m=\u001b[39m \u001b[43m[\u001b[49m\u001b[43mToolConverter\u001b[49m\u001b[38;5;241;43m.\u001b[39;49m\u001b[43mto_openai\u001b[49m\u001b[43m(\u001b[49m\u001b[43mtool\u001b[49m\u001b[43m)\u001b[49m\u001b[43m \u001b[49m\u001b[38;5;28;43;01mfor\u001b[39;49;00m\u001b[43m \u001b[49m\u001b[43mtool\u001b[49m\u001b[43m \u001b[49m\u001b[38;5;129;43;01min\u001b[39;49;00m\u001b[43m \u001b[49m\u001b[43mtools\u001b[49m\u001b[43m]\u001b[49m \u001b[38;5;28;01mif\u001b[39;00m tools \u001b[38;5;28;01melse\u001b[39;00m []\n\u001b[0;32m    484\u001b[0m \u001b[38;5;28;01mfor\u001b[39;00m handoff \u001b[38;5;129;01min\u001b[39;00m handoffs:\n\u001b[0;32m    485\u001b[0m     converted_tools\u001b[38;5;241m.\u001b[39mappend(ToolConverter\u001b[38;5;241m.\u001b[39mconvert_handoff_tool(handoff))\n",
            "File \u001b[1;32mc:\\Users\\kritt\\.conda\\envs\\ai_agents\\Lib\\site-packages\\agents\\models\\openai_chatcompletions.py:482\u001b[0m, in \u001b[0;36m<listcomp>\u001b[1;34m(.0)\u001b[0m\n\u001b[0;32m    479\u001b[0m tool_choice \u001b[38;5;241m=\u001b[39m _Converter\u001b[38;5;241m.\u001b[39mconvert_tool_choice(model_settings\u001b[38;5;241m.\u001b[39mtool_choice)\n\u001b[0;32m    480\u001b[0m response_format \u001b[38;5;241m=\u001b[39m _Converter\u001b[38;5;241m.\u001b[39mconvert_response_format(output_schema)\n\u001b[1;32m--> 482\u001b[0m converted_tools \u001b[38;5;241m=\u001b[39m [\u001b[43mToolConverter\u001b[49m\u001b[38;5;241;43m.\u001b[39;49m\u001b[43mto_openai\u001b[49m\u001b[43m(\u001b[49m\u001b[43mtool\u001b[49m\u001b[43m)\u001b[49m \u001b[38;5;28;01mfor\u001b[39;00m tool \u001b[38;5;129;01min\u001b[39;00m tools] \u001b[38;5;28;01mif\u001b[39;00m tools \u001b[38;5;28;01melse\u001b[39;00m []\n\u001b[0;32m    484\u001b[0m \u001b[38;5;28;01mfor\u001b[39;00m handoff \u001b[38;5;129;01min\u001b[39;00m handoffs:\n\u001b[0;32m    485\u001b[0m     converted_tools\u001b[38;5;241m.\u001b[39mappend(ToolConverter\u001b[38;5;241m.\u001b[39mconvert_handoff_tool(handoff))\n",
            "File \u001b[1;32mc:\\Users\\kritt\\.conda\\envs\\ai_agents\\Lib\\site-packages\\agents\\models\\openai_chatcompletions.py:938\u001b[0m, in \u001b[0;36mToolConverter.to_openai\u001b[1;34m(cls, tool)\u001b[0m\n\u001b[0;32m    928\u001b[0m \u001b[38;5;28;01mif\u001b[39;00m \u001b[38;5;28misinstance\u001b[39m(tool, FunctionTool):\n\u001b[0;32m    929\u001b[0m     \u001b[38;5;28;01mreturn\u001b[39;00m {\n\u001b[0;32m    930\u001b[0m         \u001b[38;5;124m\"\u001b[39m\u001b[38;5;124mtype\u001b[39m\u001b[38;5;124m\"\u001b[39m: \u001b[38;5;124m\"\u001b[39m\u001b[38;5;124mfunction\u001b[39m\u001b[38;5;124m\"\u001b[39m,\n\u001b[0;32m    931\u001b[0m         \u001b[38;5;124m\"\u001b[39m\u001b[38;5;124mfunction\u001b[39m\u001b[38;5;124m\"\u001b[39m: {\n\u001b[1;32m   (...)\u001b[0m\n\u001b[0;32m    935\u001b[0m         },\n\u001b[0;32m    936\u001b[0m     }\n\u001b[1;32m--> 938\u001b[0m \u001b[38;5;28;01mraise\u001b[39;00m UserError(\n\u001b[0;32m    939\u001b[0m     \u001b[38;5;124mf\u001b[39m\u001b[38;5;124m\"\u001b[39m\u001b[38;5;124mHosted tools are not supported with the ChatCompletions API. FGot tool type: \u001b[39m\u001b[38;5;124m\"\u001b[39m\n\u001b[0;32m    940\u001b[0m     \u001b[38;5;124mf\u001b[39m\u001b[38;5;124m\"\u001b[39m\u001b[38;5;132;01m{\u001b[39;00m\u001b[38;5;28mtype\u001b[39m(tool)\u001b[38;5;132;01m}\u001b[39;00m\u001b[38;5;124m, tool: \u001b[39m\u001b[38;5;132;01m{\u001b[39;00mtool\u001b[38;5;132;01m}\u001b[39;00m\u001b[38;5;124m\"\u001b[39m\n\u001b[0;32m    941\u001b[0m )\n",
            "\u001b[1;31mUserError\u001b[0m: Hosted tools are not supported with the ChatCompletions API. FGot tool type: <class 'agents.tool.WebSearchTool'>, tool: WebSearchTool(user_location=None, search_context_size='medium')"
          ]
        }
      ],
      "source": [
        "result = await Runner.run(mcdonalds_agent, \"How much is BigMac?.\")\n",
        "\n",
        "print(result.final_output)"
      ]
    },
    {
      "cell_type": "code",
      "execution_count": null,
      "metadata": {
        "colab": {
          "base_uri": "https://localhost:8080/"
        },
        "id": "rqgM6PXmR14a",
        "outputId": "6476cfa0-fbb9-4c27-813c-1d602da0dfe7"
      },
      "outputs": [],
      "source": [
        "result.new_items[1].raw_item.content[0].annotations"
      ]
    },
    {
      "cell_type": "markdown",
      "metadata": {
        "id": "6TGCmMZyAorn"
      },
      "source": [
        "### Agents as tools"
      ]
    },
    {
      "cell_type": "code",
      "execution_count": null,
      "metadata": {
        "id": "pAUAymLwAqY-"
      },
      "outputs": [],
      "source": [
        "from agents import Agent, Runner\n",
        "import asyncio\n",
        "\n",
        "orchestrator_agent = Agent(\n",
        "    name=\"orchestrator_agent\",\n",
        "    instructions=(\n",
        "        \"You are a DoorDash Agent who decides which tools or assistants to call \"\n",
        "        \"If asked for prices or menu items, you call the relevant tools.\"\n",
        "        \"if asked for info from. more than one source run multiple tools\"\n",
        "    ),\n",
        "    tools=[\n",
        "        agent.as_tool(\n",
        "            tool_name=\"in_n_out_burger_assistant\",\n",
        "            tool_description=\"Get prices with tax for In-N-Out Burger\",\n",
        "        ),\n",
        "        mcdonalds_agent.as_tool(\n",
        "            tool_name=\"mcdonalds_assistant\",\n",
        "            tool_description=\"Get prices for McDonalds\",\n",
        "        ),\n",
        "    ],\n",
        ")\n"
      ]
    },
    {
      "cell_type": "code",
      "execution_count": 60,
      "metadata": {
        "colab": {
          "base_uri": "https://localhost:8080/"
        },
        "id": "FDi7Ol9UUp6w",
        "outputId": "4df754ed-c421-40bb-910b-bf825c66a4e4"
      },
      "outputs": [
        {
          "name": "stderr",
          "output_type": "stream",
          "text": [
            "Error getting response: Error code: 401 - {'error': {'message': 'Incorrect API key provided: lm-studio. You can find your API key at https://platform.openai.com/account/api-keys.', 'type': 'invalid_request_error', 'param': None, 'code': 'invalid_api_key'}}\n"
          ]
        },
        {
          "ename": "AuthenticationError",
          "evalue": "Error code: 401 - {'error': {'message': 'Incorrect API key provided: lm-studio. You can find your API key at https://platform.openai.com/account/api-keys.', 'type': 'invalid_request_error', 'param': None, 'code': 'invalid_api_key'}}",
          "output_type": "error",
          "traceback": [
            "\u001b[1;31m---------------------------------------------------------------------------\u001b[0m",
            "\u001b[1;31mAuthenticationError\u001b[0m                       Traceback (most recent call last)",
            "Cell \u001b[1;32mIn[60], line 1\u001b[0m\n\u001b[1;32m----> 1\u001b[0m result \u001b[38;5;241m=\u001b[39m \u001b[38;5;28;01mawait\u001b[39;00m Runner\u001b[38;5;241m.\u001b[39mrun(orchestrator_agent, \u001b[38;5;28minput\u001b[39m\u001b[38;5;241m=\u001b[39m\u001b[38;5;124m\"\u001b[39m\u001b[38;5;124mHow much is a Double Double at in-N-out?\u001b[39m\u001b[38;5;124m\"\u001b[39m)\n\u001b[0;32m      2\u001b[0m \u001b[38;5;28mprint\u001b[39m(result\u001b[38;5;241m.\u001b[39mfinal_output)\n",
            "File \u001b[1;32mc:\\Users\\kritt\\.conda\\envs\\ai_agents\\Lib\\site-packages\\agents\\run.py:210\u001b[0m, in \u001b[0;36mRunner.run\u001b[1;34m(cls, starting_agent, input, context, max_turns, hooks, run_config)\u001b[0m\n\u001b[0;32m    205\u001b[0m logger\u001b[38;5;241m.\u001b[39mdebug(\n\u001b[0;32m    206\u001b[0m     \u001b[38;5;124mf\u001b[39m\u001b[38;5;124m\"\u001b[39m\u001b[38;5;124mRunning agent \u001b[39m\u001b[38;5;132;01m{\u001b[39;00mcurrent_agent\u001b[38;5;241m.\u001b[39mname\u001b[38;5;132;01m}\u001b[39;00m\u001b[38;5;124m (turn \u001b[39m\u001b[38;5;132;01m{\u001b[39;00mcurrent_turn\u001b[38;5;132;01m}\u001b[39;00m\u001b[38;5;124m)\u001b[39m\u001b[38;5;124m\"\u001b[39m,\n\u001b[0;32m    207\u001b[0m )\n\u001b[0;32m    209\u001b[0m \u001b[38;5;28;01mif\u001b[39;00m current_turn \u001b[38;5;241m==\u001b[39m \u001b[38;5;241m1\u001b[39m:\n\u001b[1;32m--> 210\u001b[0m     input_guardrail_results, turn_result \u001b[38;5;241m=\u001b[39m \u001b[38;5;28;01mawait\u001b[39;00m asyncio\u001b[38;5;241m.\u001b[39mgather(\n\u001b[0;32m    211\u001b[0m         \u001b[38;5;28mcls\u001b[39m\u001b[38;5;241m.\u001b[39m_run_input_guardrails(\n\u001b[0;32m    212\u001b[0m             starting_agent,\n\u001b[0;32m    213\u001b[0m             starting_agent\u001b[38;5;241m.\u001b[39minput_guardrails\n\u001b[0;32m    214\u001b[0m             \u001b[38;5;241m+\u001b[39m (run_config\u001b[38;5;241m.\u001b[39minput_guardrails \u001b[38;5;129;01mor\u001b[39;00m []),\n\u001b[0;32m    215\u001b[0m             copy\u001b[38;5;241m.\u001b[39mdeepcopy(\u001b[38;5;28minput\u001b[39m),\n\u001b[0;32m    216\u001b[0m             context_wrapper,\n\u001b[0;32m    217\u001b[0m         ),\n\u001b[0;32m    218\u001b[0m         \u001b[38;5;28mcls\u001b[39m\u001b[38;5;241m.\u001b[39m_run_single_turn(\n\u001b[0;32m    219\u001b[0m             agent\u001b[38;5;241m=\u001b[39mcurrent_agent,\n\u001b[0;32m    220\u001b[0m             original_input\u001b[38;5;241m=\u001b[39moriginal_input,\n\u001b[0;32m    221\u001b[0m             generated_items\u001b[38;5;241m=\u001b[39mgenerated_items,\n\u001b[0;32m    222\u001b[0m             hooks\u001b[38;5;241m=\u001b[39mhooks,\n\u001b[0;32m    223\u001b[0m             context_wrapper\u001b[38;5;241m=\u001b[39mcontext_wrapper,\n\u001b[0;32m    224\u001b[0m             run_config\u001b[38;5;241m=\u001b[39mrun_config,\n\u001b[0;32m    225\u001b[0m             should_run_agent_start_hooks\u001b[38;5;241m=\u001b[39mshould_run_agent_start_hooks,\n\u001b[0;32m    226\u001b[0m         ),\n\u001b[0;32m    227\u001b[0m     )\n\u001b[0;32m    228\u001b[0m \u001b[38;5;28;01melse\u001b[39;00m:\n\u001b[0;32m    229\u001b[0m     turn_result \u001b[38;5;241m=\u001b[39m \u001b[38;5;28;01mawait\u001b[39;00m \u001b[38;5;28mcls\u001b[39m\u001b[38;5;241m.\u001b[39m_run_single_turn(\n\u001b[0;32m    230\u001b[0m         agent\u001b[38;5;241m=\u001b[39mcurrent_agent,\n\u001b[0;32m    231\u001b[0m         original_input\u001b[38;5;241m=\u001b[39moriginal_input,\n\u001b[1;32m   (...)\u001b[0m\n\u001b[0;32m    236\u001b[0m         should_run_agent_start_hooks\u001b[38;5;241m=\u001b[39mshould_run_agent_start_hooks,\n\u001b[0;32m    237\u001b[0m     )\n",
            "File \u001b[1;32mc:\\Users\\kritt\\.conda\\envs\\ai_agents\\Lib\\asyncio\\tasks.py:349\u001b[0m, in \u001b[0;36mTask.__wakeup\u001b[1;34m(self, future)\u001b[0m\n\u001b[0;32m    347\u001b[0m \u001b[38;5;28;01mdef\u001b[39;00m \u001b[38;5;21m__wakeup\u001b[39m(\u001b[38;5;28mself\u001b[39m, future):\n\u001b[0;32m    348\u001b[0m     \u001b[38;5;28;01mtry\u001b[39;00m:\n\u001b[1;32m--> 349\u001b[0m         \u001b[43mfuture\u001b[49m\u001b[38;5;241;43m.\u001b[39;49m\u001b[43mresult\u001b[49m\u001b[43m(\u001b[49m\u001b[43m)\u001b[49m\n\u001b[0;32m    350\u001b[0m     \u001b[38;5;28;01mexcept\u001b[39;00m \u001b[38;5;167;01mBaseException\u001b[39;00m \u001b[38;5;28;01mas\u001b[39;00m exc:\n\u001b[0;32m    351\u001b[0m         \u001b[38;5;66;03m# This may also be a cancellation.\u001b[39;00m\n\u001b[0;32m    352\u001b[0m         \u001b[38;5;28mself\u001b[39m\u001b[38;5;241m.\u001b[39m__step(exc)\n",
            "File \u001b[1;32mc:\\Users\\kritt\\.conda\\envs\\ai_agents\\Lib\\asyncio\\tasks.py:277\u001b[0m, in \u001b[0;36mTask.__step\u001b[1;34m(***failed resolving arguments***)\u001b[0m\n\u001b[0;32m    273\u001b[0m \u001b[38;5;28;01mtry\u001b[39;00m:\n\u001b[0;32m    274\u001b[0m     \u001b[38;5;28;01mif\u001b[39;00m exc \u001b[38;5;129;01mis\u001b[39;00m \u001b[38;5;28;01mNone\u001b[39;00m:\n\u001b[0;32m    275\u001b[0m         \u001b[38;5;66;03m# We use the `send` method directly, because coroutines\u001b[39;00m\n\u001b[0;32m    276\u001b[0m         \u001b[38;5;66;03m# don't have `__iter__` and `__next__` methods.\u001b[39;00m\n\u001b[1;32m--> 277\u001b[0m         result \u001b[38;5;241m=\u001b[39m coro\u001b[38;5;241m.\u001b[39msend(\u001b[38;5;28;01mNone\u001b[39;00m)\n\u001b[0;32m    278\u001b[0m     \u001b[38;5;28;01melse\u001b[39;00m:\n\u001b[0;32m    279\u001b[0m         result \u001b[38;5;241m=\u001b[39m coro\u001b[38;5;241m.\u001b[39mthrow(exc)\n",
            "File \u001b[1;32mc:\\Users\\kritt\\.conda\\envs\\ai_agents\\Lib\\site-packages\\agents\\run.py:719\u001b[0m, in \u001b[0;36mRunner._run_single_turn\u001b[1;34m(cls, agent, original_input, generated_items, hooks, context_wrapper, run_config, should_run_agent_start_hooks)\u001b[0m\n\u001b[0;32m    716\u001b[0m \u001b[38;5;28minput\u001b[39m \u001b[38;5;241m=\u001b[39m ItemHelpers\u001b[38;5;241m.\u001b[39minput_to_new_input_list(original_input)\n\u001b[0;32m    717\u001b[0m \u001b[38;5;28minput\u001b[39m\u001b[38;5;241m.\u001b[39mextend([generated_item\u001b[38;5;241m.\u001b[39mto_input_item() \u001b[38;5;28;01mfor\u001b[39;00m generated_item \u001b[38;5;129;01min\u001b[39;00m generated_items])\n\u001b[1;32m--> 719\u001b[0m new_response \u001b[38;5;241m=\u001b[39m \u001b[38;5;28;01mawait\u001b[39;00m \u001b[38;5;28mcls\u001b[39m\u001b[38;5;241m.\u001b[39m_get_new_response(\n\u001b[0;32m    720\u001b[0m     agent,\n\u001b[0;32m    721\u001b[0m     system_prompt,\n\u001b[0;32m    722\u001b[0m     \u001b[38;5;28minput\u001b[39m,\n\u001b[0;32m    723\u001b[0m     output_schema,\n\u001b[0;32m    724\u001b[0m     handoffs,\n\u001b[0;32m    725\u001b[0m     context_wrapper,\n\u001b[0;32m    726\u001b[0m     run_config,\n\u001b[0;32m    727\u001b[0m )\n\u001b[0;32m    729\u001b[0m \u001b[38;5;28;01mreturn\u001b[39;00m \u001b[38;5;28;01mawait\u001b[39;00m \u001b[38;5;28mcls\u001b[39m\u001b[38;5;241m.\u001b[39m_get_single_step_result_from_response(\n\u001b[0;32m    730\u001b[0m     agent\u001b[38;5;241m=\u001b[39magent,\n\u001b[0;32m    731\u001b[0m     original_input\u001b[38;5;241m=\u001b[39moriginal_input,\n\u001b[1;32m   (...)\u001b[0m\n\u001b[0;32m    738\u001b[0m     run_config\u001b[38;5;241m=\u001b[39mrun_config,\n\u001b[0;32m    739\u001b[0m )\n",
            "File \u001b[1;32mc:\\Users\\kritt\\.conda\\envs\\ai_agents\\Lib\\site-packages\\agents\\run.py:862\u001b[0m, in \u001b[0;36mRunner._get_new_response\u001b[1;34m(cls, agent, system_prompt, input, output_schema, handoffs, context_wrapper, run_config)\u001b[0m\n\u001b[0;32m    860\u001b[0m model \u001b[38;5;241m=\u001b[39m \u001b[38;5;28mcls\u001b[39m\u001b[38;5;241m.\u001b[39m_get_model(agent, run_config)\n\u001b[0;32m    861\u001b[0m model_settings \u001b[38;5;241m=\u001b[39m agent\u001b[38;5;241m.\u001b[39mmodel_settings\u001b[38;5;241m.\u001b[39mresolve(run_config\u001b[38;5;241m.\u001b[39mmodel_settings)\n\u001b[1;32m--> 862\u001b[0m new_response \u001b[38;5;241m=\u001b[39m \u001b[38;5;28;01mawait\u001b[39;00m model\u001b[38;5;241m.\u001b[39mget_response(\n\u001b[0;32m    863\u001b[0m     system_instructions\u001b[38;5;241m=\u001b[39msystem_prompt,\n\u001b[0;32m    864\u001b[0m     \u001b[38;5;28minput\u001b[39m\u001b[38;5;241m=\u001b[39m\u001b[38;5;28minput\u001b[39m,\n\u001b[0;32m    865\u001b[0m     model_settings\u001b[38;5;241m=\u001b[39mmodel_settings,\n\u001b[0;32m    866\u001b[0m     tools\u001b[38;5;241m=\u001b[39magent\u001b[38;5;241m.\u001b[39mtools,\n\u001b[0;32m    867\u001b[0m     output_schema\u001b[38;5;241m=\u001b[39moutput_schema,\n\u001b[0;32m    868\u001b[0m     handoffs\u001b[38;5;241m=\u001b[39mhandoffs,\n\u001b[0;32m    869\u001b[0m     tracing\u001b[38;5;241m=\u001b[39mget_model_tracing_impl(\n\u001b[0;32m    870\u001b[0m         run_config\u001b[38;5;241m.\u001b[39mtracing_disabled, run_config\u001b[38;5;241m.\u001b[39mtrace_include_sensitive_data\n\u001b[0;32m    871\u001b[0m     ),\n\u001b[0;32m    872\u001b[0m )\n\u001b[0;32m    874\u001b[0m context_wrapper\u001b[38;5;241m.\u001b[39musage\u001b[38;5;241m.\u001b[39madd(new_response\u001b[38;5;241m.\u001b[39musage)\n\u001b[0;32m    876\u001b[0m \u001b[38;5;28;01mreturn\u001b[39;00m new_response\n",
            "File \u001b[1;32mc:\\Users\\kritt\\.conda\\envs\\ai_agents\\Lib\\site-packages\\agents\\models\\openai_responses.py:75\u001b[0m, in \u001b[0;36mOpenAIResponsesModel.get_response\u001b[1;34m(self, system_instructions, input, model_settings, tools, output_schema, handoffs, tracing)\u001b[0m\n\u001b[0;32m     73\u001b[0m \u001b[38;5;28;01mwith\u001b[39;00m response_span(disabled\u001b[38;5;241m=\u001b[39mtracing\u001b[38;5;241m.\u001b[39mis_disabled()) \u001b[38;5;28;01mas\u001b[39;00m span_response:\n\u001b[0;32m     74\u001b[0m     \u001b[38;5;28;01mtry\u001b[39;00m:\n\u001b[1;32m---> 75\u001b[0m         response \u001b[38;5;241m=\u001b[39m \u001b[38;5;28;01mawait\u001b[39;00m \u001b[38;5;28mself\u001b[39m\u001b[38;5;241m.\u001b[39m_fetch_response(\n\u001b[0;32m     76\u001b[0m             system_instructions,\n\u001b[0;32m     77\u001b[0m             \u001b[38;5;28minput\u001b[39m,\n\u001b[0;32m     78\u001b[0m             model_settings,\n\u001b[0;32m     79\u001b[0m             tools,\n\u001b[0;32m     80\u001b[0m             output_schema,\n\u001b[0;32m     81\u001b[0m             handoffs,\n\u001b[0;32m     82\u001b[0m             stream\u001b[38;5;241m=\u001b[39m\u001b[38;5;28;01mFalse\u001b[39;00m,\n\u001b[0;32m     83\u001b[0m         )\n\u001b[0;32m     85\u001b[0m         \u001b[38;5;28;01mif\u001b[39;00m _debug\u001b[38;5;241m.\u001b[39mDONT_LOG_MODEL_DATA:\n\u001b[0;32m     86\u001b[0m             logger\u001b[38;5;241m.\u001b[39mdebug(\u001b[38;5;124m\"\u001b[39m\u001b[38;5;124mLLM responsed\u001b[39m\u001b[38;5;124m\"\u001b[39m)\n",
            "File \u001b[1;32mc:\\Users\\kritt\\.conda\\envs\\ai_agents\\Lib\\site-packages\\agents\\models\\openai_responses.py:229\u001b[0m, in \u001b[0;36mOpenAIResponsesModel._fetch_response\u001b[1;34m(self, system_instructions, input, model_settings, tools, output_schema, handoffs, stream)\u001b[0m\n\u001b[0;32m    219\u001b[0m \u001b[38;5;28;01melse\u001b[39;00m:\n\u001b[0;32m    220\u001b[0m     logger\u001b[38;5;241m.\u001b[39mdebug(\n\u001b[0;32m    221\u001b[0m         \u001b[38;5;124mf\u001b[39m\u001b[38;5;124m\"\u001b[39m\u001b[38;5;124mCalling LLM \u001b[39m\u001b[38;5;132;01m{\u001b[39;00m\u001b[38;5;28mself\u001b[39m\u001b[38;5;241m.\u001b[39mmodel\u001b[38;5;132;01m}\u001b[39;00m\u001b[38;5;124m with input:\u001b[39m\u001b[38;5;130;01m\\n\u001b[39;00m\u001b[38;5;124m\"\u001b[39m\n\u001b[0;32m    222\u001b[0m         \u001b[38;5;124mf\u001b[39m\u001b[38;5;124m\"\u001b[39m\u001b[38;5;132;01m{\u001b[39;00mjson\u001b[38;5;241m.\u001b[39mdumps(list_input,\u001b[38;5;250m \u001b[39mindent\u001b[38;5;241m=\u001b[39m\u001b[38;5;241m2\u001b[39m)\u001b[38;5;132;01m}\u001b[39;00m\u001b[38;5;130;01m\\n\u001b[39;00m\u001b[38;5;124m\"\u001b[39m\n\u001b[1;32m   (...)\u001b[0m\n\u001b[0;32m    226\u001b[0m         \u001b[38;5;124mf\u001b[39m\u001b[38;5;124m\"\u001b[39m\u001b[38;5;124mResponse format: \u001b[39m\u001b[38;5;132;01m{\u001b[39;00mresponse_format\u001b[38;5;132;01m}\u001b[39;00m\u001b[38;5;130;01m\\n\u001b[39;00m\u001b[38;5;124m\"\u001b[39m\n\u001b[0;32m    227\u001b[0m     )\n\u001b[1;32m--> 229\u001b[0m \u001b[38;5;28;01mreturn\u001b[39;00m \u001b[38;5;28;01mawait\u001b[39;00m \u001b[38;5;28mself\u001b[39m\u001b[38;5;241m.\u001b[39m_client\u001b[38;5;241m.\u001b[39mresponses\u001b[38;5;241m.\u001b[39mcreate(\n\u001b[0;32m    230\u001b[0m     instructions\u001b[38;5;241m=\u001b[39m\u001b[38;5;28mself\u001b[39m\u001b[38;5;241m.\u001b[39m_non_null_or_not_given(system_instructions),\n\u001b[0;32m    231\u001b[0m     model\u001b[38;5;241m=\u001b[39m\u001b[38;5;28mself\u001b[39m\u001b[38;5;241m.\u001b[39mmodel,\n\u001b[0;32m    232\u001b[0m     \u001b[38;5;28minput\u001b[39m\u001b[38;5;241m=\u001b[39mlist_input,\n\u001b[0;32m    233\u001b[0m     include\u001b[38;5;241m=\u001b[39mconverted_tools\u001b[38;5;241m.\u001b[39mincludes,\n\u001b[0;32m    234\u001b[0m     tools\u001b[38;5;241m=\u001b[39mconverted_tools\u001b[38;5;241m.\u001b[39mtools,\n\u001b[0;32m    235\u001b[0m     temperature\u001b[38;5;241m=\u001b[39m\u001b[38;5;28mself\u001b[39m\u001b[38;5;241m.\u001b[39m_non_null_or_not_given(model_settings\u001b[38;5;241m.\u001b[39mtemperature),\n\u001b[0;32m    236\u001b[0m     top_p\u001b[38;5;241m=\u001b[39m\u001b[38;5;28mself\u001b[39m\u001b[38;5;241m.\u001b[39m_non_null_or_not_given(model_settings\u001b[38;5;241m.\u001b[39mtop_p),\n\u001b[0;32m    237\u001b[0m     truncation\u001b[38;5;241m=\u001b[39m\u001b[38;5;28mself\u001b[39m\u001b[38;5;241m.\u001b[39m_non_null_or_not_given(model_settings\u001b[38;5;241m.\u001b[39mtruncation),\n\u001b[0;32m    238\u001b[0m     tool_choice\u001b[38;5;241m=\u001b[39mtool_choice,\n\u001b[0;32m    239\u001b[0m     parallel_tool_calls\u001b[38;5;241m=\u001b[39mparallel_tool_calls,\n\u001b[0;32m    240\u001b[0m     stream\u001b[38;5;241m=\u001b[39mstream,\n\u001b[0;32m    241\u001b[0m     extra_headers\u001b[38;5;241m=\u001b[39m_HEADERS,\n\u001b[0;32m    242\u001b[0m     text\u001b[38;5;241m=\u001b[39mresponse_format,\n\u001b[0;32m    243\u001b[0m )\n",
            "File \u001b[1;32mc:\\Users\\kritt\\.conda\\envs\\ai_agents\\Lib\\site-packages\\openai\\resources\\responses\\responses.py:1414\u001b[0m, in \u001b[0;36mAsyncResponses.create\u001b[1;34m(self, input, model, include, instructions, max_output_tokens, metadata, parallel_tool_calls, previous_response_id, reasoning, store, stream, temperature, text, tool_choice, tools, top_p, truncation, user, extra_headers, extra_query, extra_body, timeout)\u001b[0m\n\u001b[0;32m   1385\u001b[0m \u001b[38;5;129m@required_args\u001b[39m([\u001b[38;5;124m\"\u001b[39m\u001b[38;5;124minput\u001b[39m\u001b[38;5;124m\"\u001b[39m, \u001b[38;5;124m\"\u001b[39m\u001b[38;5;124mmodel\u001b[39m\u001b[38;5;124m\"\u001b[39m], [\u001b[38;5;124m\"\u001b[39m\u001b[38;5;124minput\u001b[39m\u001b[38;5;124m\"\u001b[39m, \u001b[38;5;124m\"\u001b[39m\u001b[38;5;124mmodel\u001b[39m\u001b[38;5;124m\"\u001b[39m, \u001b[38;5;124m\"\u001b[39m\u001b[38;5;124mstream\u001b[39m\u001b[38;5;124m\"\u001b[39m])\n\u001b[0;32m   1386\u001b[0m \u001b[38;5;28;01masync\u001b[39;00m \u001b[38;5;28;01mdef\u001b[39;00m \u001b[38;5;21mcreate\u001b[39m(\n\u001b[0;32m   1387\u001b[0m     \u001b[38;5;28mself\u001b[39m,\n\u001b[1;32m   (...)\u001b[0m\n\u001b[0;32m   1412\u001b[0m     timeout: \u001b[38;5;28mfloat\u001b[39m \u001b[38;5;241m|\u001b[39m httpx\u001b[38;5;241m.\u001b[39mTimeout \u001b[38;5;241m|\u001b[39m \u001b[38;5;28;01mNone\u001b[39;00m \u001b[38;5;241m|\u001b[39m NotGiven \u001b[38;5;241m=\u001b[39m NOT_GIVEN,\n\u001b[0;32m   1413\u001b[0m ) \u001b[38;5;241m-\u001b[39m\u001b[38;5;241m>\u001b[39m Response \u001b[38;5;241m|\u001b[39m AsyncStream[ResponseStreamEvent]:\n\u001b[1;32m-> 1414\u001b[0m     \u001b[38;5;28;01mreturn\u001b[39;00m \u001b[38;5;28;01mawait\u001b[39;00m \u001b[38;5;28mself\u001b[39m\u001b[38;5;241m.\u001b[39m_post(\n\u001b[0;32m   1415\u001b[0m         \u001b[38;5;124m\"\u001b[39m\u001b[38;5;124m/responses\u001b[39m\u001b[38;5;124m\"\u001b[39m,\n\u001b[0;32m   1416\u001b[0m         body\u001b[38;5;241m=\u001b[39m\u001b[38;5;28;01mawait\u001b[39;00m async_maybe_transform(\n\u001b[0;32m   1417\u001b[0m             {\n\u001b[0;32m   1418\u001b[0m                 \u001b[38;5;124m\"\u001b[39m\u001b[38;5;124minput\u001b[39m\u001b[38;5;124m\"\u001b[39m: \u001b[38;5;28minput\u001b[39m,\n\u001b[0;32m   1419\u001b[0m                 \u001b[38;5;124m\"\u001b[39m\u001b[38;5;124mmodel\u001b[39m\u001b[38;5;124m\"\u001b[39m: model,\n\u001b[0;32m   1420\u001b[0m                 \u001b[38;5;124m\"\u001b[39m\u001b[38;5;124minclude\u001b[39m\u001b[38;5;124m\"\u001b[39m: include,\n\u001b[0;32m   1421\u001b[0m                 \u001b[38;5;124m\"\u001b[39m\u001b[38;5;124minstructions\u001b[39m\u001b[38;5;124m\"\u001b[39m: instructions,\n\u001b[0;32m   1422\u001b[0m                 \u001b[38;5;124m\"\u001b[39m\u001b[38;5;124mmax_output_tokens\u001b[39m\u001b[38;5;124m\"\u001b[39m: max_output_tokens,\n\u001b[0;32m   1423\u001b[0m                 \u001b[38;5;124m\"\u001b[39m\u001b[38;5;124mmetadata\u001b[39m\u001b[38;5;124m\"\u001b[39m: metadata,\n\u001b[0;32m   1424\u001b[0m                 \u001b[38;5;124m\"\u001b[39m\u001b[38;5;124mparallel_tool_calls\u001b[39m\u001b[38;5;124m\"\u001b[39m: parallel_tool_calls,\n\u001b[0;32m   1425\u001b[0m                 \u001b[38;5;124m\"\u001b[39m\u001b[38;5;124mprevious_response_id\u001b[39m\u001b[38;5;124m\"\u001b[39m: previous_response_id,\n\u001b[0;32m   1426\u001b[0m                 \u001b[38;5;124m\"\u001b[39m\u001b[38;5;124mreasoning\u001b[39m\u001b[38;5;124m\"\u001b[39m: reasoning,\n\u001b[0;32m   1427\u001b[0m                 \u001b[38;5;124m\"\u001b[39m\u001b[38;5;124mstore\u001b[39m\u001b[38;5;124m\"\u001b[39m: store,\n\u001b[0;32m   1428\u001b[0m                 \u001b[38;5;124m\"\u001b[39m\u001b[38;5;124mstream\u001b[39m\u001b[38;5;124m\"\u001b[39m: stream,\n\u001b[0;32m   1429\u001b[0m                 \u001b[38;5;124m\"\u001b[39m\u001b[38;5;124mtemperature\u001b[39m\u001b[38;5;124m\"\u001b[39m: temperature,\n\u001b[0;32m   1430\u001b[0m                 \u001b[38;5;124m\"\u001b[39m\u001b[38;5;124mtext\u001b[39m\u001b[38;5;124m\"\u001b[39m: text,\n\u001b[0;32m   1431\u001b[0m                 \u001b[38;5;124m\"\u001b[39m\u001b[38;5;124mtool_choice\u001b[39m\u001b[38;5;124m\"\u001b[39m: tool_choice,\n\u001b[0;32m   1432\u001b[0m                 \u001b[38;5;124m\"\u001b[39m\u001b[38;5;124mtools\u001b[39m\u001b[38;5;124m\"\u001b[39m: tools,\n\u001b[0;32m   1433\u001b[0m                 \u001b[38;5;124m\"\u001b[39m\u001b[38;5;124mtop_p\u001b[39m\u001b[38;5;124m\"\u001b[39m: top_p,\n\u001b[0;32m   1434\u001b[0m                 \u001b[38;5;124m\"\u001b[39m\u001b[38;5;124mtruncation\u001b[39m\u001b[38;5;124m\"\u001b[39m: truncation,\n\u001b[0;32m   1435\u001b[0m                 \u001b[38;5;124m\"\u001b[39m\u001b[38;5;124muser\u001b[39m\u001b[38;5;124m\"\u001b[39m: user,\n\u001b[0;32m   1436\u001b[0m             },\n\u001b[0;32m   1437\u001b[0m             response_create_params\u001b[38;5;241m.\u001b[39mResponseCreateParams,\n\u001b[0;32m   1438\u001b[0m         ),\n\u001b[0;32m   1439\u001b[0m         options\u001b[38;5;241m=\u001b[39mmake_request_options(\n\u001b[0;32m   1440\u001b[0m             extra_headers\u001b[38;5;241m=\u001b[39mextra_headers, extra_query\u001b[38;5;241m=\u001b[39mextra_query, extra_body\u001b[38;5;241m=\u001b[39mextra_body, timeout\u001b[38;5;241m=\u001b[39mtimeout\n\u001b[0;32m   1441\u001b[0m         ),\n\u001b[0;32m   1442\u001b[0m         cast_to\u001b[38;5;241m=\u001b[39mResponse,\n\u001b[0;32m   1443\u001b[0m         stream\u001b[38;5;241m=\u001b[39mstream \u001b[38;5;129;01mor\u001b[39;00m \u001b[38;5;28;01mFalse\u001b[39;00m,\n\u001b[0;32m   1444\u001b[0m         stream_cls\u001b[38;5;241m=\u001b[39mAsyncStream[ResponseStreamEvent],\n\u001b[0;32m   1445\u001b[0m     )\n",
            "File \u001b[1;32mc:\\Users\\kritt\\.conda\\envs\\ai_agents\\Lib\\site-packages\\openai\\_base_client.py:1767\u001b[0m, in \u001b[0;36mAsyncAPIClient.post\u001b[1;34m(self, path, cast_to, body, files, options, stream, stream_cls)\u001b[0m\n\u001b[0;32m   1753\u001b[0m \u001b[38;5;28;01masync\u001b[39;00m \u001b[38;5;28;01mdef\u001b[39;00m \u001b[38;5;21mpost\u001b[39m(\n\u001b[0;32m   1754\u001b[0m     \u001b[38;5;28mself\u001b[39m,\n\u001b[0;32m   1755\u001b[0m     path: \u001b[38;5;28mstr\u001b[39m,\n\u001b[1;32m   (...)\u001b[0m\n\u001b[0;32m   1762\u001b[0m     stream_cls: \u001b[38;5;28mtype\u001b[39m[_AsyncStreamT] \u001b[38;5;241m|\u001b[39m \u001b[38;5;28;01mNone\u001b[39;00m \u001b[38;5;241m=\u001b[39m \u001b[38;5;28;01mNone\u001b[39;00m,\n\u001b[0;32m   1763\u001b[0m ) \u001b[38;5;241m-\u001b[39m\u001b[38;5;241m>\u001b[39m ResponseT \u001b[38;5;241m|\u001b[39m _AsyncStreamT:\n\u001b[0;32m   1764\u001b[0m     opts \u001b[38;5;241m=\u001b[39m FinalRequestOptions\u001b[38;5;241m.\u001b[39mconstruct(\n\u001b[0;32m   1765\u001b[0m         method\u001b[38;5;241m=\u001b[39m\u001b[38;5;124m\"\u001b[39m\u001b[38;5;124mpost\u001b[39m\u001b[38;5;124m\"\u001b[39m, url\u001b[38;5;241m=\u001b[39mpath, json_data\u001b[38;5;241m=\u001b[39mbody, files\u001b[38;5;241m=\u001b[39m\u001b[38;5;28;01mawait\u001b[39;00m async_to_httpx_files(files), \u001b[38;5;241m*\u001b[39m\u001b[38;5;241m*\u001b[39moptions\n\u001b[0;32m   1766\u001b[0m     )\n\u001b[1;32m-> 1767\u001b[0m     \u001b[38;5;28;01mreturn\u001b[39;00m \u001b[38;5;28;01mawait\u001b[39;00m \u001b[38;5;28mself\u001b[39m\u001b[38;5;241m.\u001b[39mrequest(cast_to, opts, stream\u001b[38;5;241m=\u001b[39mstream, stream_cls\u001b[38;5;241m=\u001b[39mstream_cls)\n",
            "File \u001b[1;32mc:\\Users\\kritt\\.conda\\envs\\ai_agents\\Lib\\site-packages\\openai\\_base_client.py:1461\u001b[0m, in \u001b[0;36mAsyncAPIClient.request\u001b[1;34m(self, cast_to, options, stream, stream_cls, remaining_retries)\u001b[0m\n\u001b[0;32m   1458\u001b[0m \u001b[38;5;28;01melse\u001b[39;00m:\n\u001b[0;32m   1459\u001b[0m     retries_taken \u001b[38;5;241m=\u001b[39m \u001b[38;5;241m0\u001b[39m\n\u001b[1;32m-> 1461\u001b[0m \u001b[38;5;28;01mreturn\u001b[39;00m \u001b[38;5;28;01mawait\u001b[39;00m \u001b[38;5;28mself\u001b[39m\u001b[38;5;241m.\u001b[39m_request(\n\u001b[0;32m   1462\u001b[0m     cast_to\u001b[38;5;241m=\u001b[39mcast_to,\n\u001b[0;32m   1463\u001b[0m     options\u001b[38;5;241m=\u001b[39moptions,\n\u001b[0;32m   1464\u001b[0m     stream\u001b[38;5;241m=\u001b[39mstream,\n\u001b[0;32m   1465\u001b[0m     stream_cls\u001b[38;5;241m=\u001b[39mstream_cls,\n\u001b[0;32m   1466\u001b[0m     retries_taken\u001b[38;5;241m=\u001b[39mretries_taken,\n\u001b[0;32m   1467\u001b[0m )\n",
            "File \u001b[1;32mc:\\Users\\kritt\\.conda\\envs\\ai_agents\\Lib\\site-packages\\openai\\_base_client.py:1562\u001b[0m, in \u001b[0;36mAsyncAPIClient._request\u001b[1;34m(self, cast_to, options, stream, stream_cls, retries_taken)\u001b[0m\n\u001b[0;32m   1559\u001b[0m         \u001b[38;5;28;01mawait\u001b[39;00m err\u001b[38;5;241m.\u001b[39mresponse\u001b[38;5;241m.\u001b[39maread()\n\u001b[0;32m   1561\u001b[0m     log\u001b[38;5;241m.\u001b[39mdebug(\u001b[38;5;124m\"\u001b[39m\u001b[38;5;124mRe-raising status error\u001b[39m\u001b[38;5;124m\"\u001b[39m)\n\u001b[1;32m-> 1562\u001b[0m     \u001b[38;5;28;01mraise\u001b[39;00m \u001b[38;5;28mself\u001b[39m\u001b[38;5;241m.\u001b[39m_make_status_error_from_response(err\u001b[38;5;241m.\u001b[39mresponse) \u001b[38;5;28;01mfrom\u001b[39;00m \u001b[38;5;28;01mNone\u001b[39;00m\n\u001b[0;32m   1564\u001b[0m \u001b[38;5;28;01mreturn\u001b[39;00m \u001b[38;5;28;01mawait\u001b[39;00m \u001b[38;5;28mself\u001b[39m\u001b[38;5;241m.\u001b[39m_process_response(\n\u001b[0;32m   1565\u001b[0m     cast_to\u001b[38;5;241m=\u001b[39mcast_to,\n\u001b[0;32m   1566\u001b[0m     options\u001b[38;5;241m=\u001b[39moptions,\n\u001b[1;32m   (...)\u001b[0m\n\u001b[0;32m   1570\u001b[0m     retries_taken\u001b[38;5;241m=\u001b[39mretries_taken,\n\u001b[0;32m   1571\u001b[0m )\n",
            "\u001b[1;31mAuthenticationError\u001b[0m: Error code: 401 - {'error': {'message': 'Incorrect API key provided: lm-studio. You can find your API key at https://platform.openai.com/account/api-keys.', 'type': 'invalid_request_error', 'param': None, 'code': 'invalid_api_key'}}"
          ]
        }
      ],
      "source": [
        "result = await Runner.run(orchestrator_agent, input=\"How much is a Double Double at in-N-out?\")\n",
        "print(result.final_output)"
      ]
    },
    {
      "cell_type": "code",
      "execution_count": null,
      "metadata": {
        "colab": {
          "base_uri": "https://localhost:8080/"
        },
        "id": "nw9beoVMUxm5",
        "outputId": "afd00dc9-e923-4c20-d312-0a7ba7c686fa"
      },
      "outputs": [],
      "source": [
        "result = await Runner.run(orchestrator_agent, input=\"what does McDonalds have for breakfast?\")\n",
        "print(result.final_output)"
      ]
    },
    {
      "cell_type": "code",
      "execution_count": null,
      "metadata": {
        "colab": {
          "base_uri": "https://localhost:8080/"
        },
        "id": "uD11__1OVRu4",
        "outputId": "c92d809f-435f-4360-f399-fc80f74da5fb"
      },
      "outputs": [],
      "source": [
        "result = await Runner.run(orchestrator_agent, input=\"Is a BigMac or a DoubleDouble AnimalStyle cheaper?\")\n",
        "print(result.final_output)"
      ]
    },
    {
      "cell_type": "code",
      "execution_count": null,
      "metadata": {
        "id": "YMn9xIZiVZu3"
      },
      "outputs": [],
      "source": [
        "result"
      ]
    },
    {
      "cell_type": "markdown",
      "metadata": {
        "id": "wqkIb47wYlLD"
      },
      "source": [
        "## Giving it a Chat Memory"
      ]
    },
    {
      "cell_type": "code",
      "execution_count": 26,
      "metadata": {
        "id": "mqbqRhvrYo-p"
      },
      "outputs": [],
      "source": [
        "agent = Agent(name=\"In-N-Out Cashier Assistant\",\n",
        "              instructions=f\"You are a helpful server at In-N-Out Burger respond to questions based on the menu below: \\n\\n{MENU_PRICES}\",\n",
        "              model=local_model,\n",
        "              tools=[calculate_tax]\n",
        "              )\n"
      ]
    },
    {
      "cell_type": "code",
      "execution_count": 27,
      "metadata": {
        "colab": {
          "base_uri": "https://localhost:8080/"
        },
        "id": "SPYEFSYRYo-q",
        "outputId": "77132eb8-43d6-4342-c5c8-61e081e1a04c"
      },
      "outputs": [
        {
          "name": "stdout",
          "output_type": "stream",
          "text": [
            "Sure! A Double Double® with French Fries will be $5.90 for the burger and $2.30 for the fries, making it a total of $8.20 before tax.\n",
            "\n",
            "Would you like to add any extras or customize your order? For example, you can make it an Animal Style or Protein Style if you prefer.\n"
          ]
        }
      ],
      "source": [
        "result = await Runner.run(agent, \"ok first let me order a Double Doubles with french fries.\")\n",
        "print(result.final_output)"
      ]
    },
    {
      "cell_type": "code",
      "execution_count": 28,
      "metadata": {
        "colab": {
          "base_uri": "https://localhost:8080/"
        },
        "id": "diVWWgNQab9q",
        "outputId": "e929c191-cd50-4892-f1e2-63a9794f3b60"
      },
      "outputs": [
        {
          "data": {
            "text/plain": [
              "[{'content': 'ok first let me order a Double Doubles with french fries.',\n",
              "  'role': 'user'},\n",
              " {'id': '__fake_id__',\n",
              "  'content': [{'annotations': [],\n",
              "    'text': 'Sure! A Double Double® with French Fries will be $5.90 for the burger and $2.30 for the fries, making it a total of $8.20 before tax.\\n\\nWould you like to add any extras or customize your order? For example, you can make it an Animal Style or Protein Style if you prefer.',\n",
              "    'type': 'output_text'}],\n",
              "  'role': 'assistant',\n",
              "  'status': 'completed',\n",
              "  'type': 'message'}]"
            ]
          },
          "execution_count": 28,
          "metadata": {},
          "output_type": "execute_result"
        }
      ],
      "source": [
        "result.to_input_list()"
      ]
    },
    {
      "cell_type": "code",
      "execution_count": 29,
      "metadata": {
        "id": "JEp2v6kyajER"
      },
      "outputs": [],
      "source": [
        "def assemble_conversation(result, new_input):\n",
        "    if result !=None:\n",
        "        new_input = result.to_input_list() + [{'content': new_input,\n",
        "                                                'role': 'user'}]\n",
        "    else:\n",
        "        new_input = new_input\n",
        "    return new_input"
      ]
    },
    {
      "cell_type": "code",
      "execution_count": 30,
      "metadata": {
        "id": "X2GOSshRbXiq"
      },
      "outputs": [],
      "source": [
        "new_prompt = \"Yes make it a combo please\""
      ]
    },
    {
      "cell_type": "code",
      "execution_count": 31,
      "metadata": {
        "colab": {
          "base_uri": "https://localhost:8080/"
        },
        "id": "7PxSXWfvbe3a",
        "outputId": "b15d8a62-5bcd-4657-f2ee-821ea26ce40d"
      },
      "outputs": [
        {
          "name": "stdout",
          "output_type": "stream",
          "text": [
            "Certainly! The Double Double® Combo includes the burger, fries, and a drink of your choice.\n",
            "\n",
            "The price for the Double Double® Combo is $10.45 before tax.\n",
            "\n",
            "Would you like to specify which drink you would like in your combo? We have coffee, hot cocoa, milk, shakes (chocolate, strawberry, vanilla), and sodas (small, medium, large, X-large).\n"
          ]
        }
      ],
      "source": [
        "new_input = assemble_conversation(result, new_prompt)\n",
        "\n",
        "result = await Runner.run(agent, new_input)\n",
        "print(result.final_output)"
      ]
    },
    {
      "cell_type": "code",
      "execution_count": 32,
      "metadata": {
        "id": "F3IgglCcb35-"
      },
      "outputs": [],
      "source": [
        "new_prompt = \"Yes can I get a coffee as well. thats all\" #coffee $1.35"
      ]
    },
    {
      "cell_type": "code",
      "execution_count": 33,
      "metadata": {
        "colab": {
          "base_uri": "https://localhost:8080/"
        },
        "id": "hXNTDZptb35-",
        "outputId": "f794a298-41a4-4c80-c58d-590556d5b104"
      },
      "outputs": [
        {
          "name": "stdout",
          "output_type": "stream",
          "text": [
            "[debug] calculating tax function called order:11.8 tax:7.25\n",
            "Your Double Double® Combo with a coffee will be $10.45 for the combo and an additional $1.35 for the coffee, making it a total of $11.80 before tax.\n",
            "\n",
            "After adding 7.25% tax, your final total is $12.66.\n",
            "\n",
            "Is there anything else you would like to add or change?\n"
          ]
        }
      ],
      "source": [
        "new_input = assemble_conversation(result, new_prompt)\n",
        "\n",
        "result = await Runner.run(agent, new_input)\n",
        "print(result.final_output)"
      ]
    }
  ],
  "metadata": {
    "colab": {
      "provenance": []
    },
    "kernelspec": {
      "display_name": "ai_agents",
      "language": "python",
      "name": "python3"
    },
    "language_info": {
      "codemirror_mode": {
        "name": "ipython",
        "version": 3
      },
      "file_extension": ".py",
      "mimetype": "text/x-python",
      "name": "python",
      "nbconvert_exporter": "python",
      "pygments_lexer": "ipython3",
      "version": "3.11.11"
    }
  },
  "nbformat": 4,
  "nbformat_minor": 0
}
