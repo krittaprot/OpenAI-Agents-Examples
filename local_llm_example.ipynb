{
 "cells": [
  {
   "cell_type": "code",
   "execution_count": 2,
   "metadata": {},
   "outputs": [
    {
     "name": "stdout",
     "output_type": "stream",
     "text": [
      "The number 9.9 is higher than 9.19."
     ]
    }
   ],
   "source": [
    "import asyncio\n",
    "from agents import Agent, Runner, OpenAIChatCompletionsModel, AsyncOpenAI\n",
    "from openai.types.responses import ResponseTextDeltaEvent\n",
    "import nest_asyncio\n",
    "nest_asyncio.apply()  # This allows asyncio.run() to work in Jupyter\n",
    "import os\n",
    "\n",
    "# Ensure the API key is set in the environment (if needed)\n",
    "os.environ[\"OPENAI_API_KEY\"] = \"lm-studio\"\n",
    "\n",
    "local_model = OpenAIChatCompletionsModel(\n",
    "    model=\"qwen2.5-7b-instruct-1m@q8_0\",\n",
    "    openai_client=AsyncOpenAI(base_url=\"http://localhost:1234/v1\"\n",
    "    )\n",
    ")\n",
    "\n",
    "agent = Agent(\n",
    "    name=\"Assistant\",\n",
    "    instructions=\"You're a helpful assistant\",\n",
    "    model=local_model,\n",
    ")\n",
    "async def stream_response():\n",
    "    result = Runner.run_streamed(agent, \"What is higher between 9.19 and 9.9?\")\n",
    "    # Use stream_events() instead of stream\n",
    "    async for event in result.stream_events():\n",
    "        # Handle raw response events for text streaming\n",
    "        if event.type == \"raw_response_event\" and isinstance(event.data, ResponseTextDeltaEvent):\n",
    "            print(event.data.delta, end=\"\", flush=True)\n",
    "\n",
    "# Now you can use asyncio.run() as normal\n",
    "asyncio.run(stream_response())"
   ]
  },
  {
   "cell_type": "code",
   "execution_count": 3,
   "metadata": {},
   "outputs": [
    {
     "name": "stdout",
     "output_type": "stream",
     "text": [
      "Sure! Here's a short story for you:\n",
      "\n",
      "---\n",
      "\n",
      "In the quiet village of Elderglen, nestled between rolling hills and ancient woods, lived an old blacksmith named Eli. His forge was a warm, inviting place filled with the scent of burning iron and the rhythmic clinking of hammers on metal. For years, he had crafted tools and weapons for the villagers—axeheads, horseshoes, and anything else they needed.\n",
      "\n",
      "One rainy evening, as thunder rolled in from the hills, Eli heard a soft knock at his door. He opened it to find a young girl standing there, her eyes wide with fear. She was small for her age, wearing tattered clothes that clung to her wet skin. In her hands was a tiny, rusted key.\n",
      "\n",
      "\"Are you lost?\" Eli asked, bending down to meet her gaze.\n",
      "\n",
      "The girl nodded, clutching the key tighter. \"I... I'm looking for someone,\" she whispered.\n",
      "\n",
      "Eli guided her inside and offered her some hot tea. As they sat together in front of the fire, he learned that her name was Elara, and she had been wandering aimlessly through the woods when a strange mist had surrounded her. When it cleared, she found herself at Eli's forge, with no memory of how she got there.\n",
      "\n",
      "\"I think this key belongs to someone important,\" Elara said, handing it to him. \"But I don’t know where.\"\n",
      "\n",
      "Eli examined the key and nodded thoughtfully. The lock it fit was one he had made long ago for a friend who had since passed away. He remembered her well—an old woman who loved puzzles and stories.\n",
      "\n",
      "\"Do you have any idea where this might lead?\" Eli asked, handing back the key.\n",
      "\n",
      "Elara shook her head. \"Only that I must find out.\"\n",
      "\n",
      "Together, they set off into the woods at dawn, following a path marked by strange symbols—symbols Eli recognized from his childhood, when he used to visit the old woman's house. The trail was difficult, but Elara followed faithfully, as if she knew something he didn’t.\n",
      "\n",
      "After hours of walking, they arrived at an abandoned stone cottage hidden deep in the woods. The key fit perfectly into a rusted lock on the door. Inside, dust-covered books and maps lined the walls, but what caught their attention was a single, open volume on the table—a diary belonging to the old woman.\n",
      "\n",
      "Elara sat down and began reading. Her eyes filled with tears as she learned about the love between her friend’s family and Elara's ancestors. She had been searching for this connection all her life, guided by something older than time itself.\n",
      "\n",
      "As dawn broke outside, Eli handed a new key to Elara—his own personal keepsake, now passed on. \"Take it,\" he said quietly. \"And remember, no matter where you go, there’s always someone waiting for your story.\"\n",
      "\n",
      "Elara smiled and thanked him, then turned towards the path home, carrying the key with her.\n",
      "\n",
      "---\n",
      "\n",
      "And so, in Elderglen, the village continued as before, but that rainy evening changed Elara forever.\n",
      "\n",
      "---"
     ]
    }
   ],
   "source": [
    "# we do need to reinitialize our runner before re-executing\n",
    "response = Runner.run_streamed(\n",
    "    starting_agent=agent,\n",
    "    input=\"tell me a short story\"\n",
    ")\n",
    "\n",
    "async for event in response.stream_events():\n",
    "    if event.type == \"raw_response_event\" and \\\n",
    "        isinstance(event.data, ResponseTextDeltaEvent):\n",
    "        print(event.data.delta, end=\"\", flush=True)"
   ]
  },
  {
   "cell_type": "code",
   "execution_count": 4,
   "metadata": {},
   "outputs": [],
   "source": [
    "from agents import function_tool\n",
    "\n",
    "@function_tool\n",
    "def multiply(x: float, y: float) -> float:\n",
    "    \"\"\"Multiplies `x` and `y` to provide a precise\n",
    "    answer.\"\"\"\n",
    "    return x*y"
   ]
  },
  {
   "cell_type": "code",
   "execution_count": 5,
   "metadata": {},
   "outputs": [],
   "source": [
    "math_agent = agent.clone(\n",
    "    name=\"Math Agent\",\n",
    "        instructions=(\n",
    "        \"You're a helpful assistant, remember to always \"\n",
    "        \"use the provided tools whenever possible. Do not \"\n",
    "        \"rely on your own knowledge too much and instead \"\n",
    "        \"use your tools to help you answer queries.\"\n",
    "    ),\n",
    "    tools=[multiply]  # note that we expect a list of tools\n",
    ")"
   ]
  },
  {
   "cell_type": "code",
   "execution_count": 6,
   "metadata": {},
   "outputs": [
    {
     "name": "stdout",
     "output_type": "stream",
     "text": [
      "To find the product of 7.814 and 103.909, you simply multiply the two numbers together:\n",
      "\n",
      "\\[ 7.814 \\times 103.909 = 812.699556 \\]\n",
      "\n",
      "So, the result is approximately 812.700 (rounded to three decimal places)."
     ]
    }
   ],
   "source": [
    "response = Runner.run_streamed(\n",
    "    starting_agent=agent,\n",
    "    input=\"what is 7.814 multiplied by 103.909?\"\n",
    ")\n",
    "\n",
    "async for event in response.stream_events():\n",
    "    if event.type == \"raw_response_event\" and \\\n",
    "        isinstance(event.data, ResponseTextDeltaEvent):\n",
    "        print(event.data.delta, end=\"\", flush=True)"
   ]
  },
  {
   "cell_type": "code",
   "execution_count": 7,
   "metadata": {},
   "outputs": [
    {
     "name": "stdout",
     "output_type": "stream",
     "text": [
      "7.814 multiplied by 103.909 equals 811.944926."
     ]
    }
   ],
   "source": [
    "response = Runner.run_streamed(\n",
    "    starting_agent=math_agent,\n",
    "    input=\"what is 7.814 multiplied by 103.909?\"\n",
    ")\n",
    "\n",
    "async for event in response.stream_events():\n",
    "    if event.type == \"raw_response_event\" and \\\n",
    "        isinstance(event.data, ResponseTextDeltaEvent):\n",
    "        print(event.data.delta, end=\"\", flush=True)"
   ]
  },
  {
   "cell_type": "code",
   "execution_count": 8,
   "metadata": {},
   "outputs": [
    {
     "name": "stdout",
     "output_type": "stream",
     "text": [
      "> Current Agent: Math Agent\n",
      "{\"x\": 7.814, \"y\": 103.892}\n",
      "> Tool Called, name: multiply\n",
      "> Tool Called, args: {\"x\": 7.814, \"y\": 103.892}\n",
      "> Tool Output: 811.812088\n",
      "7.814 multiplied by 103.892 is approximately 811.8121 (rounded to four decimal places)."
     ]
    }
   ],
   "source": [
    "from openai.types.responses import (\n",
    "    ResponseFunctionCallArgumentsDeltaEvent,  # tool call streaming\n",
    "    ResponseCreatedEvent,  # start of new event like tool call or final answer\n",
    ")\n",
    "\n",
    "response = Runner.run_streamed(\n",
    "    starting_agent=math_agent,\n",
    "    input=\"what is 7.814 multiplied by 103.892?\"\n",
    ")\n",
    "\n",
    "async for event in response.stream_events():\n",
    "    if event.type == \"raw_response_event\":\n",
    "        if isinstance(event.data, ResponseFunctionCallArgumentsDeltaEvent):\n",
    "            # this is streamed parameters for our tool call\n",
    "            print(event.data.delta, end=\"\", flush=True)\n",
    "        elif isinstance(event.data, ResponseTextDeltaEvent):\n",
    "            # this is streamed final answer tokens\n",
    "            print(event.data.delta, end=\"\", flush=True)\n",
    "    elif event.type == \"agent_updated_stream_event\":\n",
    "        # this tells us which agent is currently in use\n",
    "        print(f\"> Current Agent: {event.new_agent.name}\")\n",
    "    elif event.type == \"run_item_stream_event\":\n",
    "        # these are events containing info that we'd typically\n",
    "        # stream out to a user or some downstream process\n",
    "        if event.name == \"tool_called\":\n",
    "            # this is the collection of our _full_ tool call after our tool\n",
    "            # tokens have all been streamed\n",
    "            print()\n",
    "            print(f\"> Tool Called, name: {event.item.raw_item.name}\")\n",
    "            print(f\"> Tool Called, args: {event.item.raw_item.arguments}\")\n",
    "        elif event.name == \"tool_output\":\n",
    "            # this is the response from our tool execution\n",
    "            print(f\"> Tool Output: {event.item.raw_item['output']}\")"
   ]
  }
 ],
 "metadata": {
  "kernelspec": {
   "display_name": "ai_agents",
   "language": "python",
   "name": "python3"
  },
  "language_info": {
   "codemirror_mode": {
    "name": "ipython",
    "version": 3
   },
   "file_extension": ".py",
   "mimetype": "text/x-python",
   "name": "python",
   "nbconvert_exporter": "python",
   "pygments_lexer": "ipython3",
   "version": "3.11.11"
  }
 },
 "nbformat": 4,
 "nbformat_minor": 2
}
